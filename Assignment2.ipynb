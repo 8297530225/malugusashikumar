{
 "cells": [
  {
   "cell_type": "markdown",
   "id": "3171fda4-6af3-43ba-a021-d482d518f645",
   "metadata": {},
   "source": [
    "# 1.What are the two values of the Boolean data type? How do you write them?"
   ]
  },
  {
   "cell_type": "code",
   "execution_count": null,
   "id": "a0ecd190-05d5-4ed4-9d7d-91900da488a5",
   "metadata": {},
   "outputs": [],
   "source": [
    "The result of Boolean expression is either True or False. T and F must be capital."
   ]
  },
  {
   "cell_type": "markdown",
   "id": "77d17f58-e10f-46d6-bc2a-b8f0ad8e5311",
   "metadata": {},
   "source": [
    "# 2. What are the three different types of Boolean operators?"
   ]
  },
  {
   "cell_type": "code",
   "execution_count": null,
   "id": "ca7421d7-6eca-43b2-a6ba-8cc49934783e",
   "metadata": {},
   "outputs": [],
   "source": [
    "AND, OR and NOT"
   ]
  },
  {
   "cell_type": "markdown",
   "id": "951707f8-9f45-4229-9133-543ebe0068d7",
   "metadata": {},
   "source": [
    "# 3.Make a list of each Boolean operator&#39;s truth tables (i.e."
   ]
  },
  {
   "cell_type": "code",
   "execution_count": null,
   "id": "a5dbc0c6-ccde-4c3f-85fc-64c4a4e89534",
   "metadata": {},
   "outputs": [],
   "source": [
    "True and True is True\n",
    "True and False is False\n",
    "False and True is False\n",
    "False and False is False\n",
    "\n",
    "True or True is True\n",
    "True or False is True\n",
    "False or True is True\n",
    "False or False is False\n",
    "\n",
    "not True is False\n",
    "not False is True"
   ]
  },
  {
   "cell_type": "markdown",
   "id": "22c85509-8418-4b88-b4d8-687c627ce962",
   "metadata": {},
   "source": [
    "# 4. What are the values of the following expressions?\n"
   ]
  },
  {
   "cell_type": "code",
   "execution_count": 13,
   "id": "7db14afc-2b85-4add-bbb8-5023afe005d0",
   "metadata": {},
   "outputs": [
    {
     "name": "stdout",
     "output_type": "stream",
     "text": [
      "False\n",
      "False\n",
      "True\n",
      "False\n",
      "False\n",
      "True\n"
     ]
    }
   ],
   "source": [
    "print((5>4) and (3==5)) \n",
    "print(not(5>4))\n",
    "print((5>4) or (3==5))\n",
    "print(not(5>4) or (3==5))\n",
    "print((True and True) and (True==False))\n",
    "print((not(False))or(not(True)))"
   ]
  },
  {
   "cell_type": "markdown",
   "id": "4157dc02-80ea-43f8-8d9f-1701a313dbb0",
   "metadata": {},
   "source": [
    "# 5.What are the six comparison operators?"
   ]
  },
  {
   "cell_type": "code",
   "execution_count": null,
   "id": "ca1b1af4-6e45-4218-9a16-5259aa874ca9",
   "metadata": {},
   "outputs": [],
   "source": [
    "==, !=, <, >, <=, and >="
   ]
  },
  {
   "cell_type": "markdown",
   "id": "0da413fb-921c-4822-bf9f-1c0f8d186476",
   "metadata": {},
   "source": [
    "# 6. How do you tell the difference between the equal to and assignment operators?Describe a condition and when you would use one."
   ]
  },
  {
   "cell_type": "code",
   "execution_count": 14,
   "id": "77fc8191-48c1-4f64-af89-2602c9db9c6b",
   "metadata": {},
   "outputs": [
    {
     "name": "stdout",
     "output_type": "stream",
     "text": [
      "False\n",
      "5\n"
     ]
    }
   ],
   "source": [
    "#\"==\" is the equal to operator and compares two values to a Boolean\n",
    "#for ex: \n",
    "if(10==3):\n",
    "    Print(True) \n",
    "else:\n",
    "    print(\"False\")\n",
    "#10 == 3 is False and hence else block is executed\n",
    "\n",
    "#\"=\" is the assignment operator which is used to assign values to variables\n",
    "#ex: \n",
    "a = 5\n",
    "print(a)\n",
    "\n",
    "\n",
    "    "
   ]
  },
  {
   "cell_type": "markdown",
   "id": "7f3da276-ecc4-48f7-8469-855046777846",
   "metadata": {},
   "source": [
    "# 7.Identify the three blocks in this code:"
   ]
  },
  {
   "cell_type": "code",
   "execution_count": 17,
   "id": "07da570b-4ddb-4d80-b291-0c181b978cea",
   "metadata": {},
   "outputs": [
    {
     "name": "stdout",
     "output_type": "stream",
     "text": [
      "ham\n",
      "spam\n",
      "spam\n"
     ]
    }
   ],
   "source": [
    "spam = 0\n",
    "if spam == 10:\n",
    "    print('eggs') #Block 1\n",
    "if spam > 5:\n",
    "    print('bacon') #Block 2\n",
    "else:\n",
    "    print('ham') #Block 3\n",
    "    print('spam')\n",
    "    print('spam')"
   ]
  },
  {
   "cell_type": "markdown",
   "id": "49f87b4b-ee3e-485a-b95b-3fbd5fd9f922",
   "metadata": {},
   "source": [
    "# 8. Write code that prints Hello if 1 is stored in spam, prints Howdy if 2 is stored in spam, and prints Greetings! if anything else is stored in spam."
   ]
  },
  {
   "cell_type": "code",
   "execution_count": 6,
   "id": "1dc0b94c-0b29-407d-b6c3-885563e6b19a",
   "metadata": {},
   "outputs": [
    {
     "name": "stdin",
     "output_type": "stream",
     "text": [
      "enter number 1\n"
     ]
    },
    {
     "name": "stdout",
     "output_type": "stream",
     "text": [
      "Hello\n"
     ]
    }
   ],
   "source": [
    "spam = input(\"enter number\")\n",
    "if spam == '1':\n",
    "    print(\"Hello\")\n",
    "elif spam == '2':\n",
    "    print(\"Howdy\")\n",
    "else:\n",
    "    print(\"Greetings!!\")"
   ]
  },
  {
   "cell_type": "markdown",
   "id": "786dcb3c-4361-483c-8f1c-0f93f2eb3b07",
   "metadata": {},
   "source": [
    "# 9.If your programme is stuck in an endless loop, what keys you’ll press?"
   ]
  },
  {
   "cell_type": "code",
   "execution_count": null,
   "id": "3072feac-10c4-42a0-adb8-d77c5e27221d",
   "metadata": {},
   "outputs": [],
   "source": [
    "ctrl + c"
   ]
  },
  {
   "cell_type": "markdown",
   "id": "c9a1e7ea-b7ec-4f4c-9438-2b23b691bf84",
   "metadata": {},
   "source": [
    "# 10. How can you tell the difference between break and continue?"
   ]
  },
  {
   "cell_type": "code",
   "execution_count": null,
   "id": "52ee59fe-4575-4d36-9339-a6a1c46fcf09",
   "metadata": {},
   "outputs": [],
   "source": [
    "Break will terminate the loop and will start execution outside loop\n",
    "continue will start execution of the loop from starting(skips the current iteration)"
   ]
  },
  {
   "cell_type": "markdown",
   "id": "fb5af05d-f2c7-4a0b-b013-b82709914130",
   "metadata": {},
   "source": [
    "# 11.In a for loop, what is the difference between range(10), range(0, 10), and range(0, 10, 1)?"
   ]
  },
  {
   "cell_type": "code",
   "execution_count": 11,
   "id": "22bb9df3-3305-4766-883f-06059468ba41",
   "metadata": {},
   "outputs": [
    {
     "name": "stdout",
     "output_type": "stream",
     "text": [
      "0\n",
      "1\n",
      "2\n",
      "3\n",
      "4\n",
      "5\n",
      "6\n",
      "7\n",
      "8\n",
      "9\n",
      "\n",
      "\n",
      "0\n",
      "1\n",
      "2\n",
      "3\n",
      "4\n",
      "5\n",
      "6\n",
      "7\n",
      "8\n",
      "9\n",
      "\n",
      "\n",
      "0\n",
      "1\n",
      "2\n",
      "3\n",
      "4\n",
      "5\n",
      "6\n",
      "7\n",
      "8\n",
      "9\n"
     ]
    }
   ],
   "source": [
    "for a in range(10):\n",
    "    print(a)\n",
    "  \n",
    "print(\"\\n\")\n",
    "for b in range(0,10):\n",
    "    print(b)\n",
    "print(\"\\n\")\n",
    "for c in range(0,10,1):\n",
    "    print(c)"
   ]
  },
  {
   "cell_type": "code",
   "execution_count": null,
   "id": "51f1c8ba-c66e-4700-8489-31fde9345f03",
   "metadata": {},
   "outputs": [],
   "source": [
    "from output we can observe that there is no difference. range(10) will produce 0-9 excluding 10 , \n",
    "range(0-10) produces 0-9, range(0,10,1) produces 0-9 increasing value by1 on each iteration."
   ]
  },
  {
   "cell_type": "markdown",
   "id": "d9366ef4-17ef-41ce-ba60-c76dda284b49",
   "metadata": {},
   "source": [
    "# 12. Write a short program that prints the numbers 1 to 10 using a for loop. Then write an equivalent\n",
    "# program that prints the numbers 1 to 10 using a while loop."
   ]
  },
  {
   "cell_type": "code",
   "execution_count": 20,
   "id": "bcb347d6-c7e9-48a5-af31-9a9551561c54",
   "metadata": {},
   "outputs": [
    {
     "name": "stdout",
     "output_type": "stream",
     "text": [
      "1\n",
      "2\n",
      "3\n",
      "4\n",
      "5\n",
      "6\n",
      "7\n",
      "8\n",
      "9\n",
      "10\n",
      "1\n",
      "2\n",
      "3\n",
      "4\n",
      "5\n",
      "6\n",
      "7\n",
      "8\n",
      "9\n",
      "10\n"
     ]
    }
   ],
   "source": [
    "#using for loop\n",
    "for i in range(1,11):\n",
    "    print(i)\n",
    "    \n",
    "#using while loop\n",
    "i = 1\n",
    "while i <= 10:\n",
    "    print(i)\n",
    "    i+=1"
   ]
  },
  {
   "cell_type": "markdown",
   "id": "7feabcb1-cdd8-46fa-8ad2-8c398dcf40cc",
   "metadata": {},
   "source": [
    "# 13. If you had a function named bacon() inside a module named spam, how would you call it after importing spam?"
   ]
  },
  {
   "cell_type": "code",
   "execution_count": null,
   "id": "0ed13d9f-1623-461f-8d3e-f0c982a4b3ca",
   "metadata": {},
   "outputs": [],
   "source": [
    "spam.bacon()"
   ]
  }
 ],
 "metadata": {
  "kernelspec": {
   "display_name": "Python 3 (ipykernel)",
   "language": "python",
   "name": "python3"
  },
  "language_info": {
   "codemirror_mode": {
    "name": "ipython",
    "version": 3
   },
   "file_extension": ".py",
   "mimetype": "text/x-python",
   "name": "python",
   "nbconvert_exporter": "python",
   "pygments_lexer": "ipython3",
   "version": "3.10.6"
  }
 },
 "nbformat": 4,
 "nbformat_minor": 5
}
