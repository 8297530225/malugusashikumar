{
 "cells": [
  {
   "cell_type": "markdown",
   "id": "6b1a4479-95fb-4e44-aeb8-5e3ee21a65a2",
   "metadata": {},
   "source": [
    "## PROGRAMMING ASSIGNMENT 5"
   ]
  },
  {
   "cell_type": "code",
   "execution_count": 2,
   "id": "c82d3ee8-ccb2-410e-8f93-cd66f2bc97b7",
   "metadata": {},
   "outputs": [
    {
     "name": "stdin",
     "output_type": "stream",
     "text": [
      "first number 3\n",
      "enter second number 9\n"
     ]
    },
    {
     "name": "stdout",
     "output_type": "stream",
     "text": [
      "9\n"
     ]
    }
   ],
   "source": [
    "# 1. Write a Python Program to Find LCM?\n",
    "a=int(input(\"first number\"))\n",
    "b = int(input(\"enter second number\"))\n",
    "if a>b:\n",
    "    greater = a\n",
    "else:\n",
    "    greater = b\n",
    "    \n",
    "while(True):\n",
    "    if greater % a == 0 and greater % b == 0:\n",
    "        lcm = greater\n",
    "        break\n",
    "    greater+=1\n",
    "    \n",
    "print(lcm)\n"
   ]
  },
  {
   "cell_type": "code",
   "execution_count": 8,
   "id": "d67149b7-a9d0-42df-b83e-9d70fc86156c",
   "metadata": {},
   "outputs": [
    {
     "name": "stdin",
     "output_type": "stream",
     "text": [
      "enter the first number 24\n",
      "enter the second number 54\n"
     ]
    },
    {
     "name": "stdout",
     "output_type": "stream",
     "text": [
      "6\n"
     ]
    }
   ],
   "source": [
    "# 2. Write a Python Program to Find HCF?\n",
    "a = int(input(\"enter the first number\"))\n",
    "b = int(input(\"enter the second number\"))\n",
    "if a>b:\n",
    "    smaller = b\n",
    "else:\n",
    "    smaller = a\n",
    "    \n",
    "for i in range(2, smaller+1):\n",
    "    if a % i == 0 and b % i ==0:\n",
    "        hcf = i\n",
    "print(hcf)"
   ]
  },
  {
   "cell_type": "code",
   "execution_count": 9,
   "id": "8e5c1abc-b984-4660-81ec-19ace9ee08f5",
   "metadata": {},
   "outputs": [
    {
     "name": "stdout",
     "output_type": "stream",
     "text": [
      "The decimal value of 450 is:\n",
      "0b111000010 in binary.\n",
      "0o702 in octal.\n",
      "0x1c2 in hexadecimal.\n"
     ]
    }
   ],
   "source": [
    "# 3. Write a Python Program to Convert Decimal to Binary, Octal and Hexadecimal?\n",
    "\n",
    "decimal = 450\n",
    "\n",
    "print(\"The decimal value of\", decimal, \"is:\")\n",
    "print(bin(decimal), \"in binary.\")\n",
    "print(oct(decimal), \"in octal.\")\n",
    "print(hex(decimal), \"in hexadecimal.\")"
   ]
  },
  {
   "cell_type": "code",
   "execution_count": 10,
   "id": "5aff1c82-969e-4c33-82b4-475f5d72a247",
   "metadata": {},
   "outputs": [
    {
     "name": "stdin",
     "output_type": "stream",
     "text": [
      "enter the character s\n"
     ]
    },
    {
     "name": "stdout",
     "output_type": "stream",
     "text": [
      "ASCII value of  s is  115\n"
     ]
    }
   ],
   "source": [
    "# 4. Write a Python Program To Find ASCII value of a character?\n",
    "\n",
    "n = input(\"enter the character\")\n",
    "print(\"ASCII value of \",n, \"is \",ord(n))"
   ]
  },
  {
   "cell_type": "code",
   "execution_count": 14,
   "id": "47436de9-c57e-4f4e-9d9e-33d0b8d89b35",
   "metadata": {},
   "outputs": [
    {
     "name": "stdout",
     "output_type": "stream",
     "text": [
      "Welcome to Calculator\n",
      "select your choice:\n",
      "1.Addition 2. Subtraction 3. multiplication 4. Division\n"
     ]
    },
    {
     "name": "stdin",
     "output_type": "stream",
     "text": [
      "enter your choice: 3\n",
      "enter first number 4\n",
      "enter second number 3\n"
     ]
    },
    {
     "name": "stdout",
     "output_type": "stream",
     "text": [
      "multiplication of  4 and 3 is 12\n"
     ]
    }
   ],
   "source": [
    "# 5. Write a Python Program to Make a Simple Calculator with 4 basic mathematical operations?\n",
    "\n",
    "print(\"Welcome to Calculator\")\n",
    "print(\"select your choice:\")\n",
    "print(\"1.Addition 2. Subtraction 3. multiplication 4. Division\")\n",
    "n = int(input(\"enter your choice:\"))\n",
    "if n == 0 or n >= 5:\n",
    "    print(\"invalid entry\")\n",
    "elif n == 1:\n",
    "    a = int(input(\"enter first number\"))\n",
    "    b = int(input(\"enter second number\"))\n",
    "    print(\"Adddition of \",a,\"and\",b,\"is\",a+b)\n",
    "elif n == 2:\n",
    "    a = int(input(\"enter first number\"))\n",
    "    b = int(input(\"enter second number\"))\n",
    "    print(\"Subtraction of \",a,\"and\",b,\"is\",a-b)\n",
    "\n",
    "elif n == 3:\n",
    "    a = int(input(\"enter first number\"))\n",
    "    b = int(input(\"enter second number\"))\n",
    "    print(\"multiplication of \",a,\"and\",b,\"is\",a*b)\n",
    "elif n == 4:\n",
    "    a = int(input(\"enter first number\"))\n",
    "    b = int(input(\"enter second number\"))\n",
    "    print(\"Divison of \",a,\"and\",b,\"is\",a/b)"
   ]
  },
  {
   "cell_type": "code",
   "execution_count": null,
   "id": "c10a68cf-52ab-465f-bb76-035a4bb4f35d",
   "metadata": {},
   "outputs": [],
   "source": []
  }
 ],
 "metadata": {
  "kernelspec": {
   "display_name": "Python 3 (ipykernel)",
   "language": "python",
   "name": "python3"
  },
  "language_info": {
   "codemirror_mode": {
    "name": "ipython",
    "version": 3
   },
   "file_extension": ".py",
   "mimetype": "text/x-python",
   "name": "python",
   "nbconvert_exporter": "python",
   "pygments_lexer": "ipython3",
   "version": "3.10.6"
  }
 },
 "nbformat": 4,
 "nbformat_minor": 5
}
