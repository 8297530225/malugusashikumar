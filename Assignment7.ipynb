{
 "cells": [
  {
   "cell_type": "markdown",
   "id": "f6912c64-7c82-4c5e-bff6-a5a1a0060c02",
   "metadata": {},
   "source": [
    "# ASSIGNMENT7"
   ]
  },
  {
   "cell_type": "markdown",
   "id": "f17fd255-9f11-4eb9-99d2-989e10b8dbd2",
   "metadata": {},
   "source": [
    "## 1. What is the name of the feature responsible for generating Regex objects?"
   ]
  },
  {
   "cell_type": "markdown",
   "id": "3300504f-2f93-47dc-bb4d-68aa151e05f8",
   "metadata": {},
   "source": [
    "The re.compile() function returns Regex object."
   ]
  },
  {
   "cell_type": "markdown",
   "id": "d3be6dad-55ac-4064-8780-22ce02b42bb0",
   "metadata": {},
   "source": [
    "## 2. Why do raw strings often appear in Regex objects?"
   ]
  },
  {
   "cell_type": "code",
   "execution_count": null,
   "id": "8b2d3f77-d614-4e16-8572-6bc10f5333fe",
   "metadata": {},
   "outputs": [],
   "source": [
    "Because backslashes do not have to be escaped."
   ]
  },
  {
   "cell_type": "markdown",
   "id": "2686a4d8-af3b-4839-aadf-65fcb2aee1f7",
   "metadata": {},
   "source": [
    "## 3. What is the return value of the search() method?"
   ]
  },
  {
   "cell_type": "code",
   "execution_count": null,
   "id": "fe47ea64-44c1-46c9-8cda-8650b2cf3397",
   "metadata": {},
   "outputs": [],
   "source": [
    "This method returns the matched objects."
   ]
  },
  {
   "cell_type": "markdown",
   "id": "0cfe2d4e-8d73-4a6f-b4dd-b7f77d09be2a",
   "metadata": {},
   "source": [
    "## 4. From a Match item, how do you get the actual strings that match the pattern?"
   ]
  },
  {
   "cell_type": "code",
   "execution_count": null,
   "id": "16184262-c685-4a99-adae-6ce61c7576e1",
   "metadata": {},
   "outputs": [],
   "source": [
    "using group() method we can get strings of matched text."
   ]
  },
  {
   "cell_type": "markdown",
   "id": "5f1b672a-54c0-46cb-b599-a8a5d838a0d7",
   "metadata": {},
   "source": [
    "## 5. In the regex which created from the r&#39;(\\d\\d\\d)-(\\d\\d\\d-\\d\\d\\d\\d)&#39;, what does group zero cover?\n",
    "## Group 2? Group 1?"
   ]
  },
  {
   "cell_type": "code",
   "execution_count": null,
   "id": "b993fbf6-5f66-4ba7-8603-09e6f8856947",
   "metadata": {},
   "outputs": [],
   "source": [
    "Group 0 means entire match, group1 covers first set of paranthesesis whereas group2 covers second set of paranthesis."
   ]
  },
  {
   "cell_type": "markdown",
   "id": "bd39c057-1703-4dee-b4c0-3b20372c4834",
   "metadata": {},
   "source": [
    "## 6. In standard expression syntax, parentheses and intervals have distinct meanings. How can you tell\n",
    "## a regex that you want it to fit real parentheses and periods?"
   ]
  },
  {
   "cell_type": "code",
   "execution_count": null,
   "id": "3feff765-4df7-45c7-bcf5-bc0956160f43",
   "metadata": {},
   "outputs": [],
   "source": [
    "Periods and parentheses can be escaped with a backslash: \\., \\(, and \\)."
   ]
  },
  {
   "cell_type": "markdown",
   "id": "e59180cb-4c97-42cb-8a67-e881f21818aa",
   "metadata": {},
   "source": [
    "## 7. The findall() method returns a string list or a list of string tuples. What causes it to return one of\n",
    "## the two options?"
   ]
  },
  {
   "cell_type": "code",
   "execution_count": null,
   "id": "c3f7c602-801f-4986-8646-51c61114adfe",
   "metadata": {},
   "outputs": [],
   "source": [
    "if regex has groups, a list of tuples of string is returned. if regex has no group, a list of strings is returned."
   ]
  },
  {
   "cell_type": "markdown",
   "id": "d8dec9b3-9dc1-4b5b-9af1-11463c7c156a",
   "metadata": {},
   "source": [
    "## 8. In standard expressions, what does the | character mean?"
   ]
  },
  {
   "cell_type": "code",
   "execution_count": null,
   "id": "75f44c93-c607-4834-b0a6-46effcba5a2e",
   "metadata": {},
   "outputs": [],
   "source": [
    "It will match \"either, or\" between two groups"
   ]
  },
  {
   "cell_type": "markdown",
   "id": "90f873be-31af-4ca0-95a1-f4b6218dbd44",
   "metadata": {},
   "source": [
    "## 9. In regular expressions, what does the character stand for?"
   ]
  },
  {
   "cell_type": "code",
   "execution_count": null,
   "id": "f878de71-131c-42d2-961a-57d064e72643",
   "metadata": {},
   "outputs": [],
   "source": [
    "Character can either mean \"match zero or one of the preceding group\" or be used to signify nongreedy matching."
   ]
  },
  {
   "cell_type": "markdown",
   "id": "0e0fc28b-efed-4509-ac2f-acab1e8248da",
   "metadata": {},
   "source": [
    "## 10.In regular expressions, what is the difference between the + and * characters?"
   ]
  },
  {
   "cell_type": "code",
   "execution_count": null,
   "id": "98133511-8f69-4aa7-8d70-1941a48aa068",
   "metadata": {},
   "outputs": [],
   "source": [
    "+ means one or more and * means zero or more."
   ]
  },
  {
   "cell_type": "markdown",
   "id": "8ab9e01a-fa7a-402e-85ae-ffe8511cf1c8",
   "metadata": {},
   "source": [
    "## 11. What is the difference between {4} and {4,5} in regular expression?"
   ]
  },
  {
   "cell_type": "code",
   "execution_count": null,
   "id": "e46460ad-bbc5-406d-8ae3-4083710022f9",
   "metadata": {},
   "outputs": [],
   "source": [
    "The {4} matches exactly four instances of proceedings group. Wheras {4,5} matches between 4 and 5 instances."
   ]
  },
  {
   "cell_type": "markdown",
   "id": "d1e42690-9b77-42c1-9f78-726bdda7f08f",
   "metadata": {},
   "source": [
    "## 12. What do you mean by the \\d, \\w, and \\s shorthand character classes signify in regular\n",
    "## expressions?"
   ]
  },
  {
   "cell_type": "code",
   "execution_count": null,
   "id": "e400f4cd-0138-4360-b1ed-56112e065934",
   "metadata": {},
   "outputs": [],
   "source": [
    "\\d - matches single digit\n",
    "\\w - matches single word\n",
    "\\s - matches space"
   ]
  },
  {
   "cell_type": "markdown",
   "id": "9410a777-5519-4c04-981a-d492ac2e356c",
   "metadata": {},
   "source": [
    "## 13. What do means by \\D, \\W, and \\S shorthand character classes signify in regular expressions?"
   ]
  },
  {
   "cell_type": "code",
   "execution_count": null,
   "id": "e16f5dbd-998d-42cb-bcee-8c0d89fa0ece",
   "metadata": {},
   "outputs": [],
   "source": [
    "\\D - matches a character that is not a single digit\n",
    "\\W - matches a character that is not a single word\n",
    "\\S - matches a character that is not a  space"
   ]
  },
  {
   "cell_type": "markdown",
   "id": "e4f231c8-8d09-40c3-96a3-5337e950c304",
   "metadata": {},
   "source": [
    "## 14. What is the difference between .*? and .*?"
   ]
  },
  {
   "cell_type": "code",
   "execution_count": null,
   "id": "bb8267b2-2a31-4f40-b8f7-554a89203c62",
   "metadata": {},
   "outputs": [],
   "source": [
    "*? is non-greedy. * will match nothing, but then will try to match extra characters until it matches 1."
   ]
  },
  {
   "cell_type": "markdown",
   "id": "9336a4c7-46bd-4b5a-871e-fdb315d2475c",
   "metadata": {},
   "source": [
    "## 15. What is the syntax for matching both numbers and lowercase letters with a character class?"
   ]
  },
  {
   "cell_type": "code",
   "execution_count": null,
   "id": "6d0cf6ce-e577-4ebd-ab91-17f28817b845",
   "metadata": {},
   "outputs": [],
   "source": [
    "[a-zA-Z0-9]"
   ]
  },
  {
   "cell_type": "markdown",
   "id": "7821a34b-17e7-43f1-81c9-46ef13c4a9ff",
   "metadata": {},
   "source": [
    "## 16. What is the procedure for making a normal expression in regax case insensitive?"
   ]
  },
  {
   "cell_type": "code",
   "execution_count": null,
   "id": "7eff5d16-cc0d-4177-852a-767e708185a2",
   "metadata": {},
   "outputs": [],
   "source": [
    "pattern = re.compile('FIle:/+(.*)', re.IGNORECASE)"
   ]
  },
  {
   "cell_type": "markdown",
   "id": "985816c7-1b40-4e9a-b45e-38c287286ea5",
   "metadata": {},
   "source": [
    "## 17. What does the . character normally match? What does it match if re.DOTALL is passed as 2nd\n",
    "## argument in re.compile()?"
   ]
  },
  {
   "cell_type": "code",
   "execution_count": null,
   "id": "f1115b85-50ee-4f53-ae06-2c0467805a28",
   "metadata": {},
   "outputs": [],
   "source": [
    "The . character normally matches any character except the newline character. \n",
    "If re.DOTALL is passed as the second argument to re.compile(), then the dot will also match newline characters."
   ]
  },
  {
   "cell_type": "markdown",
   "id": "3b4b9e44-8d7f-44fd-9224-a5238903c7e3",
   "metadata": {},
   "source": [
    "## 18. If numReg = re.compile(r&#39;\\d+&#39;), what will numRegex.sub(&#39;X&#39;, &#39;11 drummers, 10 pipers, five rings, 4\n",
    "## hen&#39;) return?"
   ]
  },
  {
   "cell_type": "code",
   "execution_count": null,
   "id": "fabc0d11-5107-44ee-894f-41c3449e6049",
   "metadata": {},
   "outputs": [],
   "source": [
    "X drummers, X pipers, X rings, X hen"
   ]
  },
  {
   "cell_type": "markdown",
   "id": "8cd5b8f9-2356-48b3-bb28-7710f8b2c63e",
   "metadata": {},
   "source": [
    "## 19. What does passing re.VERBOSE as the 2nd argument to re.compile() allow to do?"
   ]
  },
  {
   "cell_type": "code",
   "execution_count": null,
   "id": "00bd9380-ce66-45dc-985e-d6459d08ce51",
   "metadata": {},
   "outputs": [],
   "source": [
    "The re.VERBOSE argument allows you to add whitespace and comments to the string passed to re.compile()."
   ]
  },
  {
   "cell_type": "markdown",
   "id": "e59dddb0-9463-4257-9c97-504ae44b4b74",
   "metadata": {},
   "source": [
    "# 20. How would you write a regex that match a number with comma for every three digits? It must\n",
    "# match the given following:\n",
    "# &#39;42&#39;\n",
    "# &#39;1,234&#39;\n",
    "# &#39;6,368,745&#39;\n",
    "\n",
    "# but not the following:\n",
    "# &#39;12,34,567&#39; (which has only two digits between the commas)\n",
    "# &#39;1234&#39; (which lacks commas)"
   ]
  },
  {
   "cell_type": "code",
   "execution_count": null,
   "id": "4b522e66-897f-43d1-ac08-92ef20b5e0ee",
   "metadata": {},
   "outputs": [],
   "source": [
    "re.compile(r'^\\d{1,3}(,\\d{3})*$')"
   ]
  },
  {
   "cell_type": "markdown",
   "id": "30635386-a6b0-4ac1-a897-156d71e035a3",
   "metadata": {},
   "source": [
    "# 21. How would you write a regex that matches the full name of someone whose last name is\n",
    "# Watanabe? You can assume that the first name that comes before it will always be one word that\n",
    "# begins with a capital letter. The regex must match the following:\n",
    "# &#39;Haruto Watanabe&#39;\n",
    "# &#39;Alice Watanabe&#39;\n",
    "# &#39;RoboCop Watanabe&#39;\n",
    "# but not the following:\n",
    "# &#39;haruto Watanabe&#39; (where the first name is not capitalized)\n",
    "# &#39;Mr. Watanabe&#39; (where the preceding word has a nonletter character)\n",
    "# &#39;Watanabe&#39; (which has no first name)\n",
    "# &#39;Haruto watanabe&#39; (where Watanabe is not capitalized)"
   ]
  },
  {
   "cell_type": "code",
   "execution_count": null,
   "id": "e2fd88f9-f1a7-48d0-9ab8-071c7babc065",
   "metadata": {},
   "outputs": [],
   "source": [
    "re.compile(r'[A-Z][a-z]*\\sWatanabe')"
   ]
  },
  {
   "cell_type": "markdown",
   "id": "6f488b9d-14d2-4313-86bd-ddc1bcae2925",
   "metadata": {},
   "source": [
    "# 22. How would you write a regex that matches a sentence where the first word is either Alice, Bob,\n",
    "# or Carol; the second word is either eats, pets, or throws; the third word is apples, cats, or baseballs;\n",
    "# and the sentence ends with a period? This regex should be case-insensitive. It must match the\n",
    "# following:\n",
    "# &#39;Alice eats apples.&#39;\n",
    "# &#39;Bob pets cats.&#39;\n",
    "# &#39;Carol throws baseballs.&#39;\n",
    "# &#39;Alice throws Apples.&#39;\n",
    "# &#39;BOB EATS CATS.&#39;\n",
    "# but not the following:\n",
    "# &#39;RoboCop eats apples.&#39;\n",
    "# &#39;ALICE THROWS FOOTBALLS.&#39;\n",
    "# &#39;Carol eats 7 cats.&#39;"
   ]
  },
  {
   "cell_type": "code",
   "execution_count": null,
   "id": "d7bdbc11-6b83-46d2-9314-7cd029d57389",
   "metadata": {},
   "outputs": [],
   "source": [
    "re.compile(r'(Alice|Bob|Carol)\\s(eats|pets|throws)\\s(apples|cats|baseballs)\\.', re.IGNORECASE)"
   ]
  }
 ],
 "metadata": {
  "kernelspec": {
   "display_name": "Python 3 (ipykernel)",
   "language": "python",
   "name": "python3"
  },
  "language_info": {
   "codemirror_mode": {
    "name": "ipython",
    "version": 3
   },
   "file_extension": ".py",
   "mimetype": "text/x-python",
   "name": "python",
   "nbconvert_exporter": "python",
   "pygments_lexer": "ipython3",
   "version": "3.10.6"
  }
 },
 "nbformat": 4,
 "nbformat_minor": 5
}
