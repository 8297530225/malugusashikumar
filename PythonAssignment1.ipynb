{
 "cells": [
  {
   "cell_type": "markdown",
   "id": "1f4bd0e7-57b5-4d10-9316-c588d8b8e6c2",
   "metadata": {},
   "source": [
    "# PYTHON ASSIGNMENT 1"
   ]
  },
  {
   "cell_type": "markdown",
   "id": "8cdd623d-ad43-4784-9203-0ddb9aa04d57",
   "metadata": {},
   "source": [
    "# 1. In the below elements which of them are values or an expression? eg:- values can be\n",
    "# integer or string and expressions will be mathematical operators.\n",
    "*\n",
    "&#39;hello&#39;\n",
    "-87.8\n",
    "-\n",
    "/\n",
    "+\n",
    "6"
   ]
  },
  {
   "cell_type": "code",
   "execution_count": null,
   "id": "6c2eab40-07b6-441f-a139-0f7a71bbe53c",
   "metadata": {},
   "outputs": [],
   "source": [
    "element = input(\"Enter an element\")\n",
    "l = ['*', '/', '+' ,'-']\n",
    "if element in l:\n",
    "    print(\"Entered element is expression\")\n",
    "\n",
    "elif element not in l:\n",
    "    print(\"Entered element is Value\")\n"
   ]
  },
  {
   "cell_type": "markdown",
   "id": "450038db-5081-4ecd-8bba-f518820fb6fd",
   "metadata": {},
   "source": [
    "# 2.What is the difference between string and variable?"
   ]
  },
  {
   "cell_type": "code",
   "execution_count": null,
   "id": "4f405355-84f9-4d0a-bede-3d7a08b90d3c",
   "metadata": {},
   "outputs": [],
   "source": [
    "Variable: Variables are symbols that you can use to store data in a program.\n",
    "variable is an identifier to store a value in a memory location and to manipulate it if needed.\n",
    "A variable can be of several types like integer, string, float, etc. based on the value you assign to it.\n",
    "ex: v = \"hi ineuron\" or v = 10\n",
    "Here 'v'is Variable\n",
    "\n",
    "\n",
    "String: String is one of the data type and As far as Python is concerned, anything you assign to a variable using quotes (single or double) will be \n",
    "considered as a string. Thus, a string is one of several types of a variable.\n",
    "Ex: a = \"hi ineuron\"\n",
    "here 'a' is of typre string\n",
    "\n"
   ]
  },
  {
   "cell_type": "markdown",
   "id": "2bb920eb-1ef4-4c7b-9905-b62f3958df7f",
   "metadata": {},
   "source": [
    "# 3. Describe three different data types."
   ]
  },
  {
   "cell_type": "code",
   "execution_count": null,
   "id": "fca7e006-d75c-4de9-9619-e4f5d84c88ba",
   "metadata": {},
   "outputs": [],
   "source": [
    "1. Python List:\n",
    "List is a data type which is used to store multiple items in a single variable. \n",
    "List is created by placing elements inside square bracket [] seperated by commas and can contain different types like int,float,string etc..\n",
    "Lists are mutable which means they can be changed after creation\n",
    "Ex: l = [1,2,3,\"ineuron\",\"hyderabad\",-45,]\n",
    "Here l is of type list. They can be accessed using indexes. #l[0] = 1\n",
    "\n",
    "2.Tuple:\n",
    "Tuple is a data type which is used to store multiple items in a single variable.\n",
    "Tuple is created by placing elements inside paranthesis () seperated by commas and can contain different types like int,float,\n",
    "string,etc..\n",
    "Tuples are immutable which means they can't be unchanged.\n",
    "\n",
    "Ex: t = (1,3,\"sashi\",\"hyderabad\")\n",
    "\n",
    "3.Dictionary:\n",
    "Dictionary is a data type that is used to store data in key:values pairs.\n",
    "It is created by placing elements inside {}.\n",
    "We can retrieve values when the key is known.\n",
    "Ex: capitals = {\"india\": \"delhi\", \"France\": \"Paris\"}\n",
    "capitals[\"France\"] will give the output Paris\n",
    "\n",
    "    "
   ]
  },
  {
   "cell_type": "markdown",
   "id": "80a21e8c-614d-4815-9e39-0a4622bf7a6f",
   "metadata": {},
   "source": [
    "# 4.What is an expression made up of? What do all expressions do?"
   ]
  },
  {
   "cell_type": "code",
   "execution_count": null,
   "id": "5d45775c-c3b6-45be-aed6-5ac4353a9305",
   "metadata": {},
   "outputs": [],
   "source": [
    "Expression is a combination of Operators and Operands that produces some other value.\n",
    "Ex: x = 2 + 4\n",
    "print(x) ---> Constant Expression\n",
    "\n",
    "x = 40, y = 50\n",
    "add = x + y   (Arithmetic Expression)\n",
    "\n",
    "a = 10, b = 5\n",
    "print(a>5) ---> Relation Expression\n",
    "\n",
    "p = (10 == 9)\n",
    "q = (2+5 == 7)\n",
    "print(p and q) will return False -----> Logical Expression"
   ]
  },
  {
   "cell_type": "markdown",
   "id": "39cba976-593b-49eb-8323-4da87ca9fda1",
   "metadata": {},
   "source": [
    "# 5.This assignment statements, like spam = 10. What is the difference between an expression and a statement?"
   ]
  },
  {
   "cell_type": "code",
   "execution_count": null,
   "id": "be11adfd-089f-415e-a763-8deecbbc8da4",
   "metadata": {},
   "outputs": [],
   "source": [
    "Expression evaluates to a single value and a statement does not."
   ]
  },
  {
   "cell_type": "markdown",
   "id": "ac6569e2-eee9-4e2d-894c-6f7bcc264620",
   "metadata": {},
   "source": [
    "# 6. After running the following code, what does the variable bacon contain?\n",
    "# bacon = 22\n",
    "# bacon + 1"
   ]
  },
  {
   "cell_type": "code",
   "execution_count": null,
   "id": "516c1931-5935-4b86-8b0a-2587647858c9",
   "metadata": {},
   "outputs": [],
   "source": [
    "Bacon will contain 22 only because bacon + 1 doesn't reassign the value in bacon\n",
    "if it was bacon = bacon + 1 then answer would be 23"
   ]
  },
  {
   "cell_type": "markdown",
   "id": "20439646-17b4-4952-8af1-28b1d7175275",
   "metadata": {},
   "source": [
    "# 7. What should the values of the following two terms be?\n",
    "# &#39;spam&#39; + &#39;spamspam&#39;\n",
    "# &#39;spam&#39; * 3"
   ]
  },
  {
   "cell_type": "code",
   "execution_count": null,
   "id": "be34585b-3cbd-4dc4-85d5-85f2a51d76fa",
   "metadata": {},
   "outputs": [],
   "source": [
    "Both expressions would be 'spamspamspam'"
   ]
  },
  {
   "cell_type": "markdown",
   "id": "fe35affc-cafa-4f86-a301-cd324a0a170d",
   "metadata": {},
   "source": [
    "# 8. Why is eggs a valid variable name while 100 is invalid?"
   ]
  },
  {
   "cell_type": "code",
   "execution_count": null,
   "id": "48db2724-0e16-4924-ad26-bd8dc5053515",
   "metadata": {},
   "outputs": [],
   "source": [
    "Variable name is not allowed to begin with numbers"
   ]
  },
  {
   "cell_type": "markdown",
   "id": "3d3bf84f-636c-4a42-ad7e-8e68eba29376",
   "metadata": {},
   "source": [
    "# 9. What three functions can be used to get the integer, floating-point number, or string version of a value?"
   ]
  },
  {
   "cell_type": "code",
   "execution_count": null,
   "id": "9ecbb71d-4f57-4f74-b9e6-4c39ef2b71b5",
   "metadata": {},
   "outputs": [],
   "source": [
    "int(), float() and str()"
   ]
  },
  {
   "cell_type": "markdown",
   "id": "28206c1d-0e98-477c-9e28-94f5833bcb23",
   "metadata": {},
   "source": [
    "# 10. Why does this expression cause an error? How can you fix it? &#39;I have eaten &#39; + 99 + &#39; burritos.&#39;"
   ]
  },
  {
   "cell_type": "code",
   "execution_count": null,
   "id": "fd1c47e3-9d28-42b5-af79-20a86220c32c",
   "metadata": {},
   "outputs": [],
   "source": [
    "Here 99 is an integer and strings cannot concatenate with integers. Inorder to fix we need to use str(99) ."
   ]
  },
  {
   "cell_type": "code",
   "execution_count": null,
   "id": "689aa03c-5226-478d-beff-8f73c9d769a2",
   "metadata": {},
   "outputs": [],
   "source": []
  }
 ],
 "metadata": {
  "kernelspec": {
   "display_name": "Python 3 (ipykernel)",
   "language": "python",
   "name": "python3"
  },
  "language_info": {
   "codemirror_mode": {
    "name": "ipython",
    "version": 3
   },
   "file_extension": ".py",
   "mimetype": "text/x-python",
   "name": "python",
   "nbconvert_exporter": "python",
   "pygments_lexer": "ipython3",
   "version": "3.10.6"
  }
 },
 "nbformat": 4,
 "nbformat_minor": 5
}
