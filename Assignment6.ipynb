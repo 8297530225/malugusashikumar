{
 "cells": [
  {
   "cell_type": "markdown",
   "id": "03edac12-1209-41df-9b77-0e3223c3f3aa",
   "metadata": {},
   "source": [
    "# Assignment 6"
   ]
  },
  {
   "cell_type": "markdown",
   "id": "9a4959e8-ff1c-4237-a74c-6c76814e7443",
   "metadata": {},
   "source": [
    "## 1. What are escape characters, and how do you use them?"
   ]
  },
  {
   "cell_type": "code",
   "execution_count": null,
   "id": "b44dee49-6c38-4bb9-8999-9ffca6445160",
   "metadata": {},
   "outputs": [],
   "source": [
    "When we want to insert characters that are illegal in a string we use escape character\n",
    "\\'\tSingle Quote\t\n",
    "\\\\\tBackslash\t\n",
    "\\n\tNew Line\t\n",
    "\\r\tCarriage Return\t\n",
    "\\t\tTab\t\n",
    "\\b\tBackspace\t\n",
    "\\f\tForm Feed\t\n",
    "\\ooo\tOctal value\t\n",
    "\\xhh\tHex value\n",
    "\n",
    "Ex:\n",
    "You will get an error if you use double quotes inside a string that is surrounded by double quotes:\n",
    "txt = \"Welcome \"to\" ineuron\"\n",
    "To fix this problem, use the escape character \\\":\n",
    "txt = \"Welcome \\\"to\\\" ineuron\""
   ]
  },
  {
   "cell_type": "markdown",
   "id": "a6075154-bec7-4baa-a2f7-449d0e979ea6",
   "metadata": {},
   "source": [
    "## 2. What do the escape characters n and t stand for?"
   ]
  },
  {
   "cell_type": "code",
   "execution_count": null,
   "id": "e7b6697e-9661-443d-b19a-34f3055b6a00",
   "metadata": {},
   "outputs": [],
   "source": [
    "n - new line\n",
    "t - tab space"
   ]
  },
  {
   "cell_type": "markdown",
   "id": "0dd54c07-e649-4a2d-8c35-e505aefd09db",
   "metadata": {},
   "source": [
    "## 3. What is the way to include backslash characters in a string?"
   ]
  },
  {
   "cell_type": "code",
   "execution_count": null,
   "id": "b7929117-0a36-4c51-b485-22984a179452",
   "metadata": {},
   "outputs": [],
   "source": [
    "If you want to include a backslash character itself, you need two backslashes or use the @ verbatim string:\n",
    "var s = \"\\\\Tasks\";\n",
    "// or \n",
    "var s = @\"\\Tasks\""
   ]
  },
  {
   "cell_type": "markdown",
   "id": "c05280ba-547d-4424-9112-9426b0822534",
   "metadata": {},
   "source": [
    "## 4. The string &quot;Howl&#39;s Moving Castle&quot; is a correct value. Why isn&#39;t the single quote character in the\n",
    "## word Howl&#39;s not escaped a problem?"
   ]
  },
  {
   "cell_type": "code",
   "execution_count": null,
   "id": "cfcd7154-a76b-459c-b16b-bfa939d39bb3",
   "metadata": {},
   "outputs": [],
   "source": [
    "It's fine because we have used double quotes to mark the beginning and end of a string."
   ]
  },
  {
   "cell_type": "markdown",
   "id": "cb091c26-28c0-48f5-b2ad-af4cc585b95c",
   "metadata": {},
   "source": [
    "## 5. How do you write a string of newlines if you don&#39;t want to use the n character?"
   ]
  },
  {
   "cell_type": "code",
   "execution_count": null,
   "id": "0a08b6e9-5acb-4c36-a387-0b58a074bb4d",
   "metadata": {},
   "outputs": [],
   "source": [
    "You can print strings without adding a new line with end = <character>, \n",
    "which <character> is the character that will be used to separate the lines."
   ]
  },
  {
   "cell_type": "markdown",
   "id": "23000d7a-6569-4dc3-ba7e-01b716b2ce60",
   "metadata": {},
   "source": [
    "## 6. What are the values of the given expressions?"
   ]
  },
  {
   "cell_type": "code",
   "execution_count": 2,
   "id": "ef443189-010b-4889-9896-f537525c0a0e",
   "metadata": {},
   "outputs": [
    {
     "data": {
      "text/plain": [
       "'e'"
      ]
     },
     "execution_count": 2,
     "metadata": {},
     "output_type": "execute_result"
    }
   ],
   "source": [
    "'Hello, World!'[1]"
   ]
  },
  {
   "cell_type": "code",
   "execution_count": 3,
   "id": "bd8546bb-6373-42ab-9e9d-65e8552cbc84",
   "metadata": {},
   "outputs": [
    {
     "data": {
      "text/plain": [
       "'Hello'"
      ]
     },
     "execution_count": 3,
     "metadata": {},
     "output_type": "execute_result"
    }
   ],
   "source": [
    "'Hello, World!'[0:5]"
   ]
  },
  {
   "cell_type": "code",
   "execution_count": 4,
   "id": "b0c4afee-69d0-47af-8be1-3d9ef8ba24ab",
   "metadata": {},
   "outputs": [
    {
     "data": {
      "text/plain": [
       "'Hello'"
      ]
     },
     "execution_count": 4,
     "metadata": {},
     "output_type": "execute_result"
    }
   ],
   "source": [
    "'Hello, World!'[:5]"
   ]
  },
  {
   "cell_type": "code",
   "execution_count": 5,
   "id": "8aecdcc8-b503-4b2b-8768-1d4fa062be44",
   "metadata": {},
   "outputs": [
    {
     "data": {
      "text/plain": [
       "'lo, World!'"
      ]
     },
     "execution_count": 5,
     "metadata": {},
     "output_type": "execute_result"
    }
   ],
   "source": [
    "'Hello, World!'[3:]"
   ]
  },
  {
   "cell_type": "code",
   "execution_count": 6,
   "id": "76a0d370-d239-407d-9416-e301e5a2a9bc",
   "metadata": {},
   "outputs": [
    {
     "data": {
      "text/plain": [
       "'HELLO'"
      ]
     },
     "execution_count": 6,
     "metadata": {},
     "output_type": "execute_result"
    }
   ],
   "source": [
    "'Hello'.upper()"
   ]
  },
  {
   "cell_type": "code",
   "execution_count": 7,
   "id": "a8a76483-9f17-4e5a-96cf-6846b5fc8486",
   "metadata": {},
   "outputs": [
    {
     "data": {
      "text/plain": [
       "True"
      ]
     },
     "execution_count": 7,
     "metadata": {},
     "output_type": "execute_result"
    }
   ],
   "source": [
    "'Hello'.upper().isupper()"
   ]
  },
  {
   "cell_type": "code",
   "execution_count": 8,
   "id": "c9321c10-9fb6-4aa1-b188-b30128ded1aa",
   "metadata": {},
   "outputs": [
    {
     "data": {
      "text/plain": [
       "'hello'"
      ]
     },
     "execution_count": 8,
     "metadata": {},
     "output_type": "execute_result"
    }
   ],
   "source": [
    "'Hello'.upper().lower()"
   ]
  },
  {
   "cell_type": "code",
   "execution_count": 10,
   "id": "4153a39c-25a0-4be0-9b4e-37a8dfaf5e4f",
   "metadata": {},
   "outputs": [
    {
     "data": {
      "text/plain": [
       "['Remember,', 'remember,', 'the', 'fifth', 'of', 'july.']"
      ]
     },
     "execution_count": 10,
     "metadata": {},
     "output_type": "execute_result"
    }
   ],
   "source": [
    "'Remember, remember, the fifth of july.'.split()"
   ]
  },
  {
   "cell_type": "code",
   "execution_count": 11,
   "id": "54ee0e36-ab3d-4a38-bdd8-2a46f3795c4c",
   "metadata": {},
   "outputs": [
    {
     "data": {
      "text/plain": [
       "'There-ca-only-one'"
      ]
     },
     "execution_count": 11,
     "metadata": {},
     "output_type": "execute_result"
    }
   ],
   "source": [
    "'-'.join('There ca only one'.split())"
   ]
  },
  {
   "cell_type": "markdown",
   "id": "49522e81-c84d-4d83-b8d7-c52ba926d14c",
   "metadata": {},
   "source": [
    "## 9. What are the methods for right-justifying, left-justifying, and centering a string?"
   ]
  },
  {
   "cell_type": "code",
   "execution_count": 12,
   "id": "6e1d2f80-8479-49d7-acfe-0ca018d1185f",
   "metadata": {},
   "outputs": [
    {
     "name": "stdout",
     "output_type": "stream",
     "text": [
      "I love ineuron--------------------------\n"
     ]
    }
   ],
   "source": [
    "string = \"I love ineuron\"\n",
    "print(string.ljust(40,'-'))"
   ]
  },
  {
   "cell_type": "code",
   "execution_count": 13,
   "id": "0e422a2c-2a02-48aa-892e-27921a246bda",
   "metadata": {},
   "outputs": [
    {
     "name": "stdout",
     "output_type": "stream",
     "text": [
      "--------------------------I love ineuron\n"
     ]
    }
   ],
   "source": [
    "string = \"I love ineuron\"\n",
    "print(string.rjust(40,'-'))"
   ]
  },
  {
   "cell_type": "code",
   "execution_count": 14,
   "id": "109cd4a3-64c7-489d-9530-1cead5659051",
   "metadata": {},
   "outputs": [
    {
     "name": "stdout",
     "output_type": "stream",
     "text": [
      "-------------I love ineuron-------------\n"
     ]
    }
   ],
   "source": [
    "string = \"I love ineuron\"\n",
    "print(string.center(40,'-'))"
   ]
  },
  {
   "cell_type": "markdown",
   "id": "c71beb3b-63ad-48a6-bf17-293062f3d0ea",
   "metadata": {},
   "source": [
    "## 10. What is the best way to remove whitespace characters from the start or end?"
   ]
  },
  {
   "cell_type": "code",
   "execution_count": null,
   "id": "84b659c0-1f45-4b8b-8a4a-bc9a162f929e",
   "metadata": {},
   "outputs": [],
   "source": [
    "Using .strip() method"
   ]
  }
 ],
 "metadata": {
  "kernelspec": {
   "display_name": "Python 3 (ipykernel)",
   "language": "python",
   "name": "python3"
  },
  "language_info": {
   "codemirror_mode": {
    "name": "ipython",
    "version": 3
   },
   "file_extension": ".py",
   "mimetype": "text/x-python",
   "name": "python",
   "nbconvert_exporter": "python",
   "pygments_lexer": "ipython3",
   "version": "3.10.6"
  }
 },
 "nbformat": 4,
 "nbformat_minor": 5
}
