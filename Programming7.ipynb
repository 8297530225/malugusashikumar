{
 "cells": [
  {
   "cell_type": "code",
   "execution_count": null,
   "id": "28e4c55b-3988-4484-b92b-2faa2ce7c869",
   "metadata": {},
   "outputs": [],
   "source": [
    "1. Write a Python Program to find sum of array?\n",
    "2. Write a Python Program to find largest element in an array?\n",
    "3. Write a Python Program for array rotation?\n",
    "4. Write a Python Program to Split the array and add the first part to the end?\n",
    "5. Write a Python Program to check if given array is Monotonic?"
   ]
  },
  {
   "cell_type": "code",
   "execution_count": 7,
   "id": "d9e2b78e-7038-475c-8f2c-901c876634c6",
   "metadata": {},
   "outputs": [
    {
     "name": "stdin",
     "output_type": "stream",
     "text": [
      "enter number of elements: 7\n",
      " 23\n",
      " 23\n",
      " 12\n",
      " 15\n",
      " 23\n",
      " 45\n",
      " 45\n"
     ]
    },
    {
     "name": "stdout",
     "output_type": "stream",
     "text": [
      "sum is: 186\n"
     ]
    }
   ],
   "source": [
    "#1. Write a Python Program to find sum of array?\n",
    "n = int(input(\"enter number of elements:\"))\n",
    "arr = []\n",
    "for ele in range(n):\n",
    "    l = int(input())\n",
    "    arr.append(l)\n",
    "sum = 0\n",
    "for i in range(len(arr)):\n",
    "    sum = sum + (arr[i])\n",
    "    \n",
    "print(\"sum is:\",sum)\n",
    "    \n"
   ]
  },
  {
   "cell_type": "code",
   "execution_count": 12,
   "id": "c442319e-9023-4d35-99de-9e6c8f28f8d2",
   "metadata": {},
   "outputs": [
    {
     "name": "stdin",
     "output_type": "stream",
     "text": [
      "enter number of elements 5\n",
      " 23\n",
      " 34\n",
      " 56\n",
      " 34\n",
      " 23\n"
     ]
    },
    {
     "name": "stdout",
     "output_type": "stream",
     "text": [
      "you entered: [23, 34, 56, 34, 23]\n",
      "Largest element in the array is:\n",
      "56\n"
     ]
    }
   ],
   "source": [
    "# 2. Write a Python Program to find largest element in an array?\n",
    "\n",
    "arr = []\n",
    "n = int(input(\"enter number of elements\"))\n",
    "for i in range(n):\n",
    "    l = int(input())\n",
    "    arr.append(l)\n",
    "print(\"you entered:\",arr)\n",
    "print(\"Largest element in the array is:\")\n",
    "large = arr[0]\n",
    "for i in range(len(arr)):\n",
    "    if arr[i] > large:\n",
    "        large = arr[i]\n",
    "        \n",
    "print(large)"
   ]
  },
  {
   "cell_type": "code",
   "execution_count": 21,
   "id": "4cfe8178-1fdc-409f-b02e-4c9615f2bae5",
   "metadata": {},
   "outputs": [
    {
     "name": "stdout",
     "output_type": "stream",
     "text": [
      "[1, 2, 3, 4, 5, 6]\n",
      "Rotated list is\n",
      "[3, 4, 5, 6, 1, 2]\n"
     ]
    }
   ],
   "source": [
    "# 3. Write a Python Program for array rotation?\n",
    "\n",
    "def rotateList(arr,d,n):\n",
    "    arr[:]=arr[d:n]+arr[0:d]\n",
    "    return arr\n",
    "arr = [1, 2, 3, 4, 5, 6]\n",
    "print(arr)\n",
    "print(\"Rotated list is\")\n",
    "print(rotateList(arr,2,len(arr)))\n",
    "\n",
    "\n"
   ]
  },
  {
   "cell_type": "code",
   "execution_count": 35,
   "id": "9396adb4-4e77-4d09-9c10-9a2a15100bed",
   "metadata": {},
   "outputs": [
    {
     "name": "stdout",
     "output_type": "stream",
     "text": [
      "[5, 6, 7, 8, 1, 2, 3, 4]\n"
     ]
    }
   ],
   "source": [
    "# 4. Write a Python Program to Split the array and add the first part to the end?\n",
    "\n",
    "arr = [1,2,3,4,5,6,7,8]\n",
    "length = len(arr)\n",
    "temp = arr[0:round(length/2)]\n",
    "new_arr = arr[int(round(length/2)):length] + temp\n",
    "print(new_arr)\n"
   ]
  },
  {
   "cell_type": "code",
   "execution_count": 2,
   "id": "c8df9a23-51b0-4b5e-b207-b84192d65e1e",
   "metadata": {},
   "outputs": [
    {
     "name": "stdout",
     "output_type": "stream",
     "text": [
      "Not a Monotonic\n"
     ]
    }
   ],
   "source": [
    "# 5. Write a Python Program to check if given array is Monotonic?\n",
    "a = [8,7,6,95]\n",
    "n = len(a)\n",
    "\n",
    "if all(a[i]>=a[i+1] for i in range(0,n-1) or a[i]<=a[i+1] for i in range(0,n-1)):\n",
    "            print(\"Monotonic\") \n",
    "else:\n",
    "    print(\"Not a Monotonic\")"
   ]
  },
  {
   "cell_type": "code",
   "execution_count": null,
   "id": "3140540b-c407-4472-a4e5-45b2f1750a6d",
   "metadata": {},
   "outputs": [],
   "source": []
  }
 ],
 "metadata": {
  "kernelspec": {
   "display_name": "Python 3 (ipykernel)",
   "language": "python",
   "name": "python3"
  },
  "language_info": {
   "codemirror_mode": {
    "name": "ipython",
    "version": 3
   },
   "file_extension": ".py",
   "mimetype": "text/x-python",
   "name": "python",
   "nbconvert_exporter": "python",
   "pygments_lexer": "ipython3",
   "version": "3.10.6"
  }
 },
 "nbformat": 4,
 "nbformat_minor": 5
}
