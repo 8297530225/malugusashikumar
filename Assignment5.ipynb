{
 "cells": [
  {
   "cell_type": "markdown",
   "id": "25482c90-ea70-4226-afbc-d477c9158d3f",
   "metadata": {},
   "source": [
    "# Assignment 5"
   ]
  },
  {
   "cell_type": "markdown",
   "id": "4cda38ee-442d-4c06-a9e7-8f01efb45b0e",
   "metadata": {},
   "source": [
    "## 1. What does an empty dictionary&#39;s code look like?"
   ]
  },
  {
   "cell_type": "code",
   "execution_count": 1,
   "id": "9c9e22eb-1ab4-49ec-9202-778639ba6655",
   "metadata": {},
   "outputs": [
    {
     "data": {
      "text/plain": [
       "{}"
      ]
     },
     "execution_count": 1,
     "metadata": {},
     "output_type": "execute_result"
    }
   ],
   "source": [
    "{}"
   ]
  },
  {
   "cell_type": "markdown",
   "id": "173bc5e9-b13d-4ddb-9729-f84fdf54f9af",
   "metadata": {},
   "source": [
    "## 2. What is the value of a dictionary value with the key &#39;foo&#39; and the value 42?"
   ]
  },
  {
   "cell_type": "code",
   "execution_count": 2,
   "id": "0257f87c-d2c3-439b-8a8c-2b3b16d33112",
   "metadata": {},
   "outputs": [
    {
     "data": {
      "text/plain": [
       "42"
      ]
     },
     "execution_count": 2,
     "metadata": {},
     "output_type": "execute_result"
    }
   ],
   "source": [
    "value = {'foo':42}\n",
    "value['foo']"
   ]
  },
  {
   "cell_type": "markdown",
   "id": "9b38c238-ec55-4fec-b4ff-0972cb84e613",
   "metadata": {},
   "source": [
    "## 3. What is the most significant distinction between a dictionary and a list?"
   ]
  },
  {
   "cell_type": "code",
   "execution_count": null,
   "id": "7eb3cdc6-48a0-4ab8-9aeb-42285508dae1",
   "metadata": {},
   "outputs": [],
   "source": [
    "dictionaries are similar to lists but are unordered. They do not have index offsets but instead\n",
    "use key-pairs to extract the element.\n",
    "ex:\n",
    "list = [1,2,3] l[0] will return 1\n",
    "dic = {\"a\":1, \"b\":2,\"c\":3}\n",
    "dic['b'] will return 2"
   ]
  },
  {
   "cell_type": "markdown",
   "id": "770825bb-7f5a-46c1-8cdc-acaff3332a77",
   "metadata": {},
   "source": [
    "## 4. What happens if you try to access spam[&#39;foo&#39;] if spam is {&#39;bar&#39;: 100}?"
   ]
  },
  {
   "cell_type": "code",
   "execution_count": 3,
   "id": "fb472b95-e259-4038-8ec9-0434e66a608a",
   "metadata": {},
   "outputs": [
    {
     "ename": "KeyError",
     "evalue": "'foo'",
     "output_type": "error",
     "traceback": [
      "\u001b[0;31m---------------------------------------------------------------------------\u001b[0m",
      "\u001b[0;31mKeyError\u001b[0m                                  Traceback (most recent call last)",
      "Cell \u001b[0;32mIn [3], line 2\u001b[0m\n\u001b[1;32m      1\u001b[0m spam \u001b[38;5;241m=\u001b[39m {\u001b[38;5;124m'\u001b[39m\u001b[38;5;124mbar\u001b[39m\u001b[38;5;124m'\u001b[39m:\u001b[38;5;241m100\u001b[39m}\n\u001b[0;32m----> 2\u001b[0m \u001b[43mspam\u001b[49m\u001b[43m[\u001b[49m\u001b[38;5;124;43m'\u001b[39;49m\u001b[38;5;124;43mfoo\u001b[39;49m\u001b[38;5;124;43m'\u001b[39;49m\u001b[43m]\u001b[49m\n",
      "\u001b[0;31mKeyError\u001b[0m: 'foo'"
     ]
    }
   ],
   "source": [
    "spam = {'bar':100}\n",
    "spam['foo']"
   ]
  },
  {
   "cell_type": "markdown",
   "id": "75063600-0d27-4817-8878-1006329ac00d",
   "metadata": {},
   "source": [
    "## 5. If a dictionary is stored in spam, what is the difference between the expressions &#39;cat&#39; in spam and\n",
    "&#39;cat&#39; in spam.keys()?"
   ]
  },
  {
   "cell_type": "code",
   "execution_count": null,
   "id": "0b8a00aa-f8f2-4268-b6f7-4947794fc09e",
   "metadata": {},
   "outputs": [],
   "source": [
    " No diference. The 'in' operator checks whether the value exists as a key in the dictionary."
   ]
  },
  {
   "cell_type": "markdown",
   "id": "5d75ccd5-22b0-4c3a-b1c7-db27b26eb63f",
   "metadata": {},
   "source": [
    "## 6. If a dictionary is stored in spam, what is the difference between the expressions &#39;cat&#39; in spam and\n",
    "&#39;cat&#39; in spam.values()?"
   ]
  },
  {
   "cell_type": "code",
   "execution_count": null,
   "id": "d68ac341-b936-4600-aab6-38f5fd3aa50a",
   "metadata": {},
   "outputs": [],
   "source": [
    " No diference. The 'in' operator checks whether the value exists as a value in the dictionary."
   ]
  },
  {
   "cell_type": "markdown",
   "id": "da55a6cf-7a63-4176-809f-8a79c6fb8cfc",
   "metadata": {},
   "source": [
    "## 7. What is a shortcut for the following code?\n",
    "## if &#39;color&#39; not in spam:\n",
    "## spam[&#39;color&#39;] = &#39;black&#39;"
   ]
  },
  {
   "cell_type": "code",
   "execution_count": null,
   "id": "c5e55df7-4882-4f0a-bb8f-99b072f84098",
   "metadata": {},
   "outputs": [],
   "source": [
    "spam.setdefault('color': 'black')"
   ]
  },
  {
   "cell_type": "markdown",
   "id": "0ea551fc-18b9-4078-8955-71ec679f02e2",
   "metadata": {},
   "source": [
    "## 8. How do you &quot;pretty print&quot; dictionary values using which module and function?"
   ]
  },
  {
   "cell_type": "code",
   "execution_count": null,
   "id": "f62d834f-40b5-4ce0-b2a9-efef7281aca8",
   "metadata": {},
   "outputs": [],
   "source": [
    "Module is pprint. Functions are pprint.print() and pprint.format()"
   ]
  }
 ],
 "metadata": {
  "kernelspec": {
   "display_name": "Python 3 (ipykernel)",
   "language": "python",
   "name": "python3"
  },
  "language_info": {
   "codemirror_mode": {
    "name": "ipython",
    "version": 3
   },
   "file_extension": ".py",
   "mimetype": "text/x-python",
   "name": "python",
   "nbconvert_exporter": "python",
   "pygments_lexer": "ipython3",
   "version": "3.10.6"
  }
 },
 "nbformat": 4,
 "nbformat_minor": 5
}
