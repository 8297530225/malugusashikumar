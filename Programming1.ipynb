{
 "cells": [
  {
   "cell_type": "markdown",
   "id": "93dd26a0-ca47-4629-8322-52fe222f695e",
   "metadata": {},
   "source": [
    "# PROGRAMMING ASSIGNMENT 1"
   ]
  },
  {
   "cell_type": "markdown",
   "id": "6d6246f4-0077-4f7d-8d4e-b6da228612d5",
   "metadata": {},
   "source": [
    "## 1. Write a Python program to print \"Hello Python\""
   ]
  },
  {
   "cell_type": "code",
   "execution_count": 1,
   "id": "4a892548-a181-4bc5-8d44-d97b6addb354",
   "metadata": {},
   "outputs": [
    {
     "name": "stdout",
     "output_type": "stream",
     "text": [
      "Hello Python\n"
     ]
    }
   ],
   "source": [
    "print(\"Hello Python\")"
   ]
  },
  {
   "cell_type": "markdown",
   "id": "47b6e42e-654a-4534-9f36-3f05e0b472e0",
   "metadata": {},
   "source": [
    "## 2. Write a Python program to do arithmetical operations addition and division.?"
   ]
  },
  {
   "cell_type": "code",
   "execution_count": 3,
   "id": "80fc36eb-3fbf-432f-be90-31f3e74d1f4a",
   "metadata": {},
   "outputs": [
    {
     "name": "stdin",
     "output_type": "stream",
     "text": [
      "enter first number 2\n",
      "enter second number 6\n"
     ]
    },
    {
     "name": "stdout",
     "output_type": "stream",
     "text": [
      "Addition of two numbers is 8\n",
      "Division of two numbers is  0.3333333333333333\n"
     ]
    }
   ],
   "source": [
    "a = int(input(\"enter first number\"))\n",
    "b = int(input(\"enter second number\"))\n",
    "print(\"Addition of two numbers is\", a+b)\n",
    "print(\"Division of two numbers is \", float(a/b))"
   ]
  },
  {
   "cell_type": "markdown",
   "id": "b2a6d38d-a098-4eaf-a2f6-00a6290ea9a8",
   "metadata": {},
   "source": [
    "## 3. Write a Python program to find the area of a triangle?"
   ]
  },
  {
   "cell_type": "code",
   "execution_count": 7,
   "id": "439eb601-898b-4aae-9486-daaccf1b049a",
   "metadata": {},
   "outputs": [
    {
     "name": "stdin",
     "output_type": "stream",
     "text": [
      "enter the first side 8\n",
      "enter the second side 9\n",
      "enter the third side 10\n"
     ]
    },
    {
     "name": "stdout",
     "output_type": "stream",
     "text": [
      "13.5\n",
      "Area of triangle is : 34.197039345533994\n"
     ]
    }
   ],
   "source": [
    "a = float(input(\"enter the first side\"))\n",
    "b = float(input(\"enter the second side\"))\n",
    "c = float(input(\"enter the third side\"))\n",
    "s = (a+b+c)/2\n",
    "print(s)\n",
    "area = (s*(s-a)*(s-b)*(s-c))**0.5\n",
    "print(\"Area of triangle is :\",area)"
   ]
  },
  {
   "cell_type": "markdown",
   "id": "81de2fe6-2111-49fa-b2d7-ab006516fcce",
   "metadata": {},
   "source": [
    "## 4. Write a Python program to swap two variables?"
   ]
  },
  {
   "cell_type": "code",
   "execution_count": 10,
   "id": "d9175e5f-2aa3-4e03-9fb0-e33fed287c77",
   "metadata": {},
   "outputs": [
    {
     "name": "stdin",
     "output_type": "stream",
     "text": [
      "enter 'a' value 4\n",
      "enter 'b' value 5\n"
     ]
    },
    {
     "name": "stdout",
     "output_type": "stream",
     "text": [
      "a value: 5\n",
      "b value: 4\n"
     ]
    }
   ],
   "source": [
    "a = input(\"enter 'a' value\")\n",
    "b = input(\"enter 'b' value\")\n",
    "temp = a\n",
    "a = b\n",
    "b = temp\n",
    "print(\"a value:\", a)\n",
    "print(\"b value:\", b)"
   ]
  },
  {
   "cell_type": "markdown",
   "id": "c8bafa09-9e31-48d1-a4df-4119775f2104",
   "metadata": {},
   "source": [
    "## 5. Write a Python program to generate a random number?"
   ]
  },
  {
   "cell_type": "code",
   "execution_count": 11,
   "id": "fda2bd92-b096-4e4d-a3ef-893c39ee3ccd",
   "metadata": {},
   "outputs": [
    {
     "name": "stdout",
     "output_type": "stream",
     "text": [
      "0.15724586305856803\n"
     ]
    }
   ],
   "source": [
    "import random\n",
    "print(random.random())"
   ]
  },
  {
   "cell_type": "code",
   "execution_count": 12,
   "id": "f20cda43-9167-4e6a-b1a3-e797d382940e",
   "metadata": {},
   "outputs": [
    {
     "name": "stdout",
     "output_type": "stream",
     "text": [
      "189\n"
     ]
    }
   ],
   "source": [
    "print(random.randint(0,1000))"
   ]
  },
  {
   "cell_type": "code",
   "execution_count": null,
   "id": "10c78f89-1ada-4d79-8c59-0e80ad4a9c0e",
   "metadata": {},
   "outputs": [],
   "source": []
  }
 ],
 "metadata": {
  "kernelspec": {
   "display_name": "Python 3 (ipykernel)",
   "language": "python",
   "name": "python3"
  },
  "language_info": {
   "codemirror_mode": {
    "name": "ipython",
    "version": 3
   },
   "file_extension": ".py",
   "mimetype": "text/x-python",
   "name": "python",
   "nbconvert_exporter": "python",
   "pygments_lexer": "ipython3",
   "version": "3.10.6"
  }
 },
 "nbformat": 4,
 "nbformat_minor": 5
}
