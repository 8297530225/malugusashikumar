{
 "cells": [
  {
   "cell_type": "markdown",
   "id": "31d9537b-b444-4536-ac6d-ab7c3945dc54",
   "metadata": {},
   "source": [
    "# Assignment 4"
   ]
  },
  {
   "cell_type": "markdown",
   "id": "7e3dc564-b046-4a15-bf27-e09b203fe0e8",
   "metadata": {},
   "source": [
    "## 1. What exactly is []?"
   ]
  },
  {
   "cell_type": "code",
   "execution_count": null,
   "id": "eefda66b-f313-40b3-9a03-7c7865a05436",
   "metadata": {},
   "outputs": [],
   "source": [
    "They are used to define lists in Python. [] is an empty list"
   ]
  },
  {
   "cell_type": "markdown",
   "id": "7c0f12ea-6bf9-4495-bd83-832a2c7b7c32",
   "metadata": {},
   "source": [
    "## 2. In a list of values stored in a variable called spam, how would you assign the value &#39;hello&#39; as the\n",
    "third value? (Assume [2, 4, 6, 8, 10] are in spam.)"
   ]
  },
  {
   "cell_type": "code",
   "execution_count": 1,
   "id": "78fac617-f0ae-4714-8a11-5586d04b58d4",
   "metadata": {},
   "outputs": [
    {
     "name": "stdout",
     "output_type": "stream",
     "text": [
      "[2, 4, 'hello', 6, 8, 10]\n"
     ]
    }
   ],
   "source": [
    "spam = [2,4,6,8,10]\n",
    "spam.insert(2,\"hello\")\n",
    "print(spam)"
   ]
  },
  {
   "cell_type": "markdown",
   "id": "a8241bb5-cf86-4d48-8f08-d1216aae2058",
   "metadata": {},
   "source": [
    "## Let&#39;s pretend the spam includes the list [&#39;a&#39;, &#39;b&#39;, &#39;c&#39;, &#39;d&#39;] for the next three queries.\n",
    "## 3. What is the value of spam[int(int(&#39;3&#39; * 2) / 11)]?"
   ]
  },
  {
   "cell_type": "code",
   "execution_count": 2,
   "id": "51e46a5d-cc1e-4773-a387-1c2595753e5c",
   "metadata": {},
   "outputs": [
    {
     "data": {
      "text/plain": [
       "'d'"
      ]
     },
     "execution_count": 2,
     "metadata": {},
     "output_type": "execute_result"
    }
   ],
   "source": [
    "spam = ['a','b','c','d']\n",
    "spam[int(int('3'* 2) / 11)]\n"
   ]
  },
  {
   "cell_type": "markdown",
   "id": "0dfe1c54-7c19-4e7d-949c-534abbf2d582",
   "metadata": {},
   "source": [
    "## 4. What is the value of spam[-1]?"
   ]
  },
  {
   "cell_type": "code",
   "execution_count": 3,
   "id": "b8912619-81e9-404e-be1d-420ef324c302",
   "metadata": {},
   "outputs": [
    {
     "data": {
      "text/plain": [
       "'d'"
      ]
     },
     "execution_count": 3,
     "metadata": {},
     "output_type": "execute_result"
    }
   ],
   "source": [
    "spam[-1]"
   ]
  },
  {
   "cell_type": "markdown",
   "id": "ab9f1930-dbda-48af-a171-307a32cf230b",
   "metadata": {},
   "source": [
    "## 5. What is the value of spam[:2]?"
   ]
  },
  {
   "cell_type": "code",
   "execution_count": 4,
   "id": "1b44eaf4-b2dd-4634-a830-483a3c6e91d8",
   "metadata": {},
   "outputs": [
    {
     "data": {
      "text/plain": [
       "['a', 'b']"
      ]
     },
     "execution_count": 4,
     "metadata": {},
     "output_type": "execute_result"
    }
   ],
   "source": [
    "spam[:2]"
   ]
  },
  {
   "cell_type": "markdown",
   "id": "e633261d-fa60-40ee-b044-72b6fdee01de",
   "metadata": {},
   "source": [
    "## Let&#39;s pretend bacon has the list [3.14, &#39;cat,&#39; 11, &#39;cat,&#39; True] for the next three questions.\n",
    "## 6. What is the value of bacon.index(&#39;cat&#39;)?"
   ]
  },
  {
   "cell_type": "code",
   "execution_count": 5,
   "id": "d7bdfb7a-d131-4227-8b9e-50a4a2c75dfd",
   "metadata": {},
   "outputs": [
    {
     "data": {
      "text/plain": [
       "1"
      ]
     },
     "execution_count": 5,
     "metadata": {},
     "output_type": "execute_result"
    }
   ],
   "source": [
    "bacon = [3.14, 'cat', 11, 'cat', 'True']\n",
    "bacon.index('cat')"
   ]
  },
  {
   "cell_type": "code",
   "execution_count": 9,
   "id": "895d391f-f024-4e1c-ac91-ceb4e4aee996",
   "metadata": {},
   "outputs": [],
   "source": [
    "bacon.append(99)"
   ]
  },
  {
   "cell_type": "code",
   "execution_count": 10,
   "id": "0dec92b0-70e5-49de-9bd8-6be5c4f0c8f9",
   "metadata": {},
   "outputs": [
    {
     "name": "stdout",
     "output_type": "stream",
     "text": [
      "[3.14, 'cat', 11, 'cat', 'True', 99]\n"
     ]
    }
   ],
   "source": [
    "print(bacon)"
   ]
  },
  {
   "cell_type": "code",
   "execution_count": 11,
   "id": "521a6260-0cd6-4ca5-9249-016cfbee9bc1",
   "metadata": {},
   "outputs": [
    {
     "name": "stdout",
     "output_type": "stream",
     "text": [
      "[3.14, 11, 'cat', 'True', 99]\n"
     ]
    }
   ],
   "source": [
    "bacon.remove('cat')\n",
    "print(bacon)"
   ]
  },
  {
   "cell_type": "markdown",
   "id": "5391e4a9-aec0-47aa-bbe1-9db37bb03ce2",
   "metadata": {},
   "source": [
    "## 9. What are the list concatenation and list replication operators?"
   ]
  },
  {
   "cell_type": "code",
   "execution_count": null,
   "id": "c74632c6-6a6f-4288-b47e-5010af355410",
   "metadata": {},
   "outputs": [],
   "source": [
    "For List concatenation we use '+'\n",
    "Ex:\n",
    "l1= [\"i\"]\n",
    "l2 = [\"neuron\"]\n",
    "l1 + l2 = \"ineuron\"\n",
    "\n",
    "For replication we use '*'\n",
    "l = 'spam'\n",
    "l * 3 will produce the output 'spamspamspam'"
   ]
  },
  {
   "cell_type": "markdown",
   "id": "062b8728-77a7-4396-8548-6c2e20b98070",
   "metadata": {},
   "source": [
    "## "
   ]
  },
  {
   "cell_type": "markdown",
   "id": "92636c35-5893-474d-8c4e-d469a93d8d16",
   "metadata": {},
   "source": [
    "## 10. What is difference between the list methods append() and insert()?"
   ]
  },
  {
   "cell_type": "code",
   "execution_count": null,
   "id": "1fbfc712-ce51-4e3e-976e-3056f7dba96f",
   "metadata": {},
   "outputs": [],
   "source": [
    "append() will include the element at the end in the list by default.\n",
    "Ex:\n",
    "l = [1,2,3]\n",
    "l.append(4) will make list look like [1,2,3,4]\n",
    "\n",
    "insert() is used to insert any element at particular index.\n",
    "Ex:\n",
    "l = [1,2,3,4]\n",
    "if we want to insert 5 in between 2 and 3 then we need to use l.insert(2, 5) here 2 is index"
   ]
  },
  {
   "cell_type": "markdown",
   "id": "8078ed69-92f2-4ea0-9db8-a835331558a1",
   "metadata": {},
   "source": [
    "## 11. What are the two methods for removing items from a list?"
   ]
  },
  {
   "cell_type": "code",
   "execution_count": null,
   "id": "aa06ea21-a2b0-429d-95c2-f7fbebe5edd0",
   "metadata": {},
   "outputs": [],
   "source": [
    "remove() and pop()"
   ]
  },
  {
   "cell_type": "markdown",
   "id": "4560d203-7dc7-4d1e-85b6-b0025a67d8ed",
   "metadata": {},
   "source": [
    "## 12. Describe how list values and string values are identical."
   ]
  },
  {
   "cell_type": "code",
   "execution_count": null,
   "id": "2bb4b8c3-dcb9-4a3e-b887-5dec033038de",
   "metadata": {},
   "outputs": [],
   "source": [
    "A list is a sequence of items, where each item could be anything (an integer, a float, a string, etc). \n",
    "Both strings and lists have lengths: a string's length is the number of characters in the string; a list's length is\n",
    "the number of items in the list."
   ]
  },
  {
   "cell_type": "markdown",
   "id": "aa930634-3e7a-4649-bcbb-f3e84b112f32",
   "metadata": {},
   "source": [
    "## 13. What&#39;s the difference between tuples and lists?"
   ]
  },
  {
   "cell_type": "code",
   "execution_count": null,
   "id": "63adcc6e-2280-4219-98f3-76cef288923f",
   "metadata": {},
   "outputs": [],
   "source": [
    "Lists are defined with [] and tuples with ()\n",
    "Lists are mutable which means they can be changed after creation but tuples are immutable\n",
    "List iteration is slow compared to tuple\n",
    "List is useful for insertion and deletion operations whereas tuple is useful for readonly operations like accesing elements.\n",
    "List consumes more memory compared to tuple.\n"
   ]
  },
  {
   "cell_type": "markdown",
   "id": "8c0c2df6-15ec-4a2b-9e2f-32f1c7ee8d3f",
   "metadata": {},
   "source": [
    "## 14. How do you type a tuple value that only contains the integer 42?"
   ]
  },
  {
   "cell_type": "code",
   "execution_count": 12,
   "id": "80aceceb-674d-40f8-8a5e-22124c4f0110",
   "metadata": {},
   "outputs": [
    {
     "data": {
      "text/plain": [
       "tuple"
      ]
     },
     "execution_count": 12,
     "metadata": {},
     "output_type": "execute_result"
    }
   ],
   "source": [
    "t= (42,)\n",
    "type(t)"
   ]
  },
  {
   "cell_type": "markdown",
   "id": "775ce683-9cfe-4cce-844d-8248cfdbcd99",
   "metadata": {},
   "source": [
    "## 15. How do you get a list value&#39;s tuple form? How do you get a tuple value&#39;s list form?"
   ]
  },
  {
   "cell_type": "code",
   "execution_count": 13,
   "id": "12fa250e-69e4-4b11-861c-c29dc26ac57c",
   "metadata": {},
   "outputs": [
    {
     "data": {
      "text/plain": [
       "tuple"
      ]
     },
     "execution_count": 13,
     "metadata": {},
     "output_type": "execute_result"
    }
   ],
   "source": [
    "#list can be converted to tuple by using tuple() method\n",
    "#ex:\n",
    "l = [1,2,3]\n",
    "t = tuple(l)\n",
    "type(t)\n",
    "#tuple can be converted to list by using list() method likewise"
   ]
  },
  {
   "cell_type": "markdown",
   "id": "9266db68-af11-48bf-aae7-0ef03a85e085",
   "metadata": {},
   "source": [
    "## 16. Variables that &quot;contain&quot; list values are not necessarily lists themselves. Instead, what do they\n",
    "contain?"
   ]
  },
  {
   "cell_type": "code",
   "execution_count": null,
   "id": "59130d54-34c4-4c19-93c8-7a0208e97cf2",
   "metadata": {},
   "outputs": [],
   "source": [
    "references to list values"
   ]
  },
  {
   "cell_type": "markdown",
   "id": "c7d9e232-8126-4747-a0a8-78c991a89abf",
   "metadata": {},
   "source": [
    "## 17. How do you distinguish between copy.copy() and copy.deepcopy()?"
   ]
  },
  {
   "cell_type": "code",
   "execution_count": null,
   "id": "0052fcdf-6851-4b45-a65f-485b377ee150",
   "metadata": {},
   "outputs": [],
   "source": [
    "copy() create reference to original object. If you change copied object, you change the original object.\n",
    "deepcopy() creates new object and does real copying of original object to new one."
   ]
  },
  {
   "cell_type": "code",
   "execution_count": 26,
   "id": "d969d771-a456-454e-830c-90584f211811",
   "metadata": {},
   "outputs": [
    {
     "name": "stdout",
     "output_type": "stream",
     "text": [
      "Old List: [[1, 2, 3], [4, 5, 6], [7, 8, 9]]\n",
      "ID of Old List: 140184403577152\n",
      "New List: [[1, 2, 3], [4, 5, 6], [7, 8, 9]]\n",
      "ID of New List: 140184403577152\n"
     ]
    }
   ],
   "source": [
    "old_list = [[1, 2, 3], [4, 5, 6], [7, 8, 'a']]\n",
    "new_list = old_list\n",
    "\n",
    "new_list[2][2] = 9\n",
    "\n",
    "print('Old List:', old_list)\n",
    "print('ID of Old List:', id(old_list))\n",
    "\n",
    "print('New List:', new_list)\n",
    "print('ID of New List:', id(new_list))"
   ]
  },
  {
   "cell_type": "code",
   "execution_count": 27,
   "id": "6deeeb2a-a2c2-485f-81c6-0bd4c26812a5",
   "metadata": {},
   "outputs": [
    {
     "name": "stdout",
     "output_type": "stream",
     "text": [
      "Old list: [[1, 1, 1], [2, 2, 2], [3, 3, 3]]\n",
      "ID of Old List: 140184403578560\n",
      "New list: [[1, 1, 1], [2, 2, 2], [3, 3, 3]]\n",
      "ID of New List: 140184403577600\n"
     ]
    }
   ],
   "source": [
    "import copy\n",
    "\n",
    "old_list = [[1, 1, 1], [2, 2, 2], [3, 3, 3]]\n",
    "new_list = copy.deepcopy(old_list)\n",
    "\n",
    "print(\"Old list:\", old_list)\n",
    "print('ID of Old List:', id(old_list))\n",
    "print(\"New list:\", new_list)\n",
    "print('ID of New List:', id(new_list))\n"
   ]
  },
  {
   "cell_type": "code",
   "execution_count": null,
   "id": "31e4d05d-e36c-4ac4-9290-f974cdb90044",
   "metadata": {},
   "outputs": [],
   "source": []
  }
 ],
 "metadata": {
  "kernelspec": {
   "display_name": "Python 3 (ipykernel)",
   "language": "python",
   "name": "python3"
  },
  "language_info": {
   "codemirror_mode": {
    "name": "ipython",
    "version": 3
   },
   "file_extension": ".py",
   "mimetype": "text/x-python",
   "name": "python",
   "nbconvert_exporter": "python",
   "pygments_lexer": "ipython3",
   "version": "3.10.6"
  }
 },
 "nbformat": 4,
 "nbformat_minor": 5
}
