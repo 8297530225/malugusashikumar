{
 "cells": [
  {
   "cell_type": "markdown",
   "id": "c113d380-636b-4fda-b99e-caa5011abfd5",
   "metadata": {},
   "source": [
    "## Programming Assignment 2"
   ]
  },
  {
   "cell_type": "markdown",
   "id": "042ac6d2-9c94-4873-95fb-b7b17631e6e6",
   "metadata": {},
   "source": [
    "## 1. Write a Python program to convert kilometers to miles?"
   ]
  },
  {
   "cell_type": "code",
   "execution_count": 2,
   "id": "7c52666a-3e3f-481e-b34d-e9b366806826",
   "metadata": {},
   "outputs": [
    {
     "name": "stdin",
     "output_type": "stream",
     "text": [
      "enter number of kilometres 2\n"
     ]
    },
    {
     "name": "stdout",
     "output_type": "stream",
     "text": [
      "2.0 kilometres is equal to  1.242742 miles\n"
     ]
    }
   ],
   "source": [
    "km = float(input(\"enter number of kilometres\"))\n",
    "convert = 0.621371\n",
    "print(km,\"kilometres is equal to \",float(km*convert),\"miles\")"
   ]
  },
  {
   "cell_type": "markdown",
   "id": "fd53b05d-0c4e-4406-b1ca-115d4fc1ec5f",
   "metadata": {},
   "source": [
    "## 2. Write a Python program to convert Celsius to Fahrenheit?"
   ]
  },
  {
   "cell_type": "code",
   "execution_count": 4,
   "id": "6340aa21-6ff5-4af6-9389-3acf83f35ccc",
   "metadata": {},
   "outputs": [
    {
     "name": "stdin",
     "output_type": "stream",
     "text": [
      "enter temperature in celsius 1\n"
     ]
    },
    {
     "name": "stdout",
     "output_type": "stream",
     "text": [
      "1.0 celsius temperature in Fahrenheit is  33.8\n"
     ]
    }
   ],
   "source": [
    "#formula = (0°C × 1.8) + 32 = 32°F\n",
    "c = float(input(\"enter temperature in celsius\"))\n",
    "convert = (c*1.8) + 32\n",
    "\n",
    "print(c,\"celsius temperature in Fahrenheit is \",convert)"
   ]
  },
  {
   "cell_type": "markdown",
   "id": "4aa64d27-3a48-428e-9711-112a39e652d3",
   "metadata": {},
   "source": [
    "## 3. Write a Python program to display calendar?"
   ]
  },
  {
   "cell_type": "code",
   "execution_count": 6,
   "id": "fa97d0c0-83dd-4b21-bb90-ea296934fb42",
   "metadata": {},
   "outputs": [
    {
     "name": "stdin",
     "output_type": "stream",
     "text": [
      "enter year 2022\n",
      "enter month 12\n"
     ]
    },
    {
     "name": "stdout",
     "output_type": "stream",
     "text": [
      "   December 2022\n",
      "Mo Tu We Th Fr Sa Su\n",
      "          1  2  3  4\n",
      " 5  6  7  8  9 10 11\n",
      "12 13 14 15 16 17 18\n",
      "19 20 21 22 23 24 25\n",
      "26 27 28 29 30 31\n",
      "\n"
     ]
    }
   ],
   "source": [
    "import calendar\n",
    "year = int(input(\"enter year\"))\n",
    "month = int(input(\"enter month\"))\n",
    "print(calendar.month(year,month))\n"
   ]
  },
  {
   "cell_type": "markdown",
   "id": "3f58cd8f-03c1-4fd1-8de6-84125aa77b34",
   "metadata": {},
   "source": [
    "## 4. Write a Python program to solve quadratic equation?"
   ]
  },
  {
   "cell_type": "code",
   "execution_count": 7,
   "id": "7d1b75f4-a125-458f-9508-af9355470008",
   "metadata": {},
   "outputs": [
    {
     "name": "stdin",
     "output_type": "stream",
     "text": [
      "enter 'a' value 1\n",
      "enter 'b' value 5\n",
      "enter 'c' value 6\n"
     ]
    },
    {
     "name": "stdout",
     "output_type": "stream",
     "text": [
      "-4.5 -5.5\n"
     ]
    }
   ],
   "source": [
    "#(-b ± (b ** 2 - 4 * a * c) ** 0.5) / (2 * a)\n",
    "\n",
    "a = float(input(\"enter 'a' value\"))\n",
    "b = float(input(\"enter 'b' value\"))\n",
    "c = float(input(\"enter 'c' value\"))\n",
    "d = (b**2) - (4*a*c)\n",
    "res1 = -b + (d**0.5)/(2*a)\n",
    "res2 = -b - (d**0.5)/(2*a)\n",
    "print(res1,res2)\n",
    "\n"
   ]
  },
  {
   "cell_type": "markdown",
   "id": "5282e674-9a42-4326-8819-1a34dd5af02c",
   "metadata": {},
   "source": [
    "## 5. Write a Python program to swap two variables without temp variable?"
   ]
  },
  {
   "cell_type": "code",
   "execution_count": 8,
   "id": "6ce5724e-569f-4723-be74-f4f9b850bda6",
   "metadata": {},
   "outputs": [
    {
     "name": "stdin",
     "output_type": "stream",
     "text": [
      "enter 'a' value 3\n",
      "enter 'b' value 4\n"
     ]
    },
    {
     "name": "stdout",
     "output_type": "stream",
     "text": [
      " 'a' value  4  b value 3\n"
     ]
    }
   ],
   "source": [
    "a = int(input(\"enter 'a' value\"))\n",
    "b = int(input(\"enter 'b' value\"))\n",
    "a, b = b, a\n",
    "print(\" 'a' value \",a,\" b value\",b)"
   ]
  },
  {
   "cell_type": "code",
   "execution_count": null,
   "id": "59442765-2e9a-44ab-b7c1-421e0c401b18",
   "metadata": {},
   "outputs": [],
   "source": []
  }
 ],
 "metadata": {
  "kernelspec": {
   "display_name": "Python 3 (ipykernel)",
   "language": "python",
   "name": "python3"
  },
  "language_info": {
   "codemirror_mode": {
    "name": "ipython",
    "version": 3
   },
   "file_extension": ".py",
   "mimetype": "text/x-python",
   "name": "python",
   "nbconvert_exporter": "python",
   "pygments_lexer": "ipython3",
   "version": "3.10.6"
  }
 },
 "nbformat": 4,
 "nbformat_minor": 5
}
