{
 "cells": [
  {
   "cell_type": "markdown",
   "id": "a211858c-2c98-4b7f-b3c8-78f5c6500c0e",
   "metadata": {},
   "source": [
    "# Assignment 3"
   ]
  },
  {
   "cell_type": "markdown",
   "id": "e06678e0-80d1-400e-af2d-77a4f786c674",
   "metadata": {},
   "source": [
    "## 1. Why are functions advantageous to have in your programs?"
   ]
  },
  {
   "cell_type": "markdown",
   "id": "84c3bc41-8c01-4b3c-aff5-052ac05a4f09",
   "metadata": {},
   "source": [
    "Functions are used for code reusability which means when you want to do something repeatedly, you can define that \n",
    "something as function and call that function whenever you want to do.\n",
    "\n",
    "Syntax:\n",
    "def functionName():\n",
    "    #what the function does goes here\n",
    "    return result\n"
   ]
  },
  {
   "cell_type": "markdown",
   "id": "bfca53d7-71c2-47c5-a3f2-075d364ad317",
   "metadata": {},
   "source": [
    "## 2. When does the code in a function run: when it&#39;s specified or when it&#39;s called?"
   ]
  },
  {
   "cell_type": "markdown",
   "id": "da9c7794-c4e5-4ad0-9455-2c5b1b745c21",
   "metadata": {},
   "source": [
    "Whenever it is called."
   ]
  },
  {
   "cell_type": "markdown",
   "id": "48a4e2bc-9b79-45a2-a38a-59ac3ea3f737",
   "metadata": {},
   "source": [
    "## 3. What statement creates a function?"
   ]
  },
  {
   "cell_type": "markdown",
   "id": "2e30a487-842d-43d6-8d03-6209dd4bb00f",
   "metadata": {},
   "source": [
    "Syntax --->     def functioName():"
   ]
  },
  {
   "cell_type": "markdown",
   "id": "e6d9927b-b158-4aac-bad0-2050b1cfb969",
   "metadata": {},
   "source": [
    "## 4. What is the difference between a function and a function call?"
   ]
  },
  {
   "cell_type": "code",
   "execution_count": null,
   "id": "9c00005a-c39e-4368-9755-abfd76ea2601",
   "metadata": {},
   "outputs": [],
   "source": [
    "A function is a block of code that performs a particular operation and returns a result.\n",
    "\n",
    "Whereas, function call is the code used to pass control to a function\n",
    "Ex:\n",
    "    def func():  #function block\n",
    "        print(\"hello\")\n",
    "        \n",
    "    func()    #function call\n",
    "        \n",
    "        "
   ]
  },
  {
   "cell_type": "markdown",
   "id": "26504ba5-5e4b-4f47-9dd7-b9672f93aea7",
   "metadata": {},
   "source": [
    "## 5. How many global scopes are there in a Python program? How many local scopes?"
   ]
  },
  {
   "cell_type": "code",
   "execution_count": null,
   "id": "32fd2e1e-5742-4365-893b-8525cd26c432",
   "metadata": {},
   "outputs": [],
   "source": [
    "There will be only one global scope per program execution. This scope remains in existence until the program terminates \n",
    "and all its names are forgotten.\n",
    "A variable created inside a function belongs to the local scope of that function, and can only be used\n",
    "inside that function."
   ]
  },
  {
   "cell_type": "markdown",
   "id": "19eefde8-9a30-425b-9809-680a335fde47",
   "metadata": {},
   "source": [
    "## 6. What happens to variables in a local scope when the function call returns?"
   ]
  },
  {
   "cell_type": "code",
   "execution_count": 7,
   "id": "b3d45a5a-2f44-49da-8501-9b82fa1c30bc",
   "metadata": {},
   "outputs": [
    {
     "ename": "NameError",
     "evalue": "name 'a' is not defined",
     "output_type": "error",
     "traceback": [
      "\u001b[0;31m---------------------------------------------------------------------------\u001b[0m",
      "\u001b[0;31mNameError\u001b[0m                                 Traceback (most recent call last)",
      "Cell \u001b[0;32mIn [7], line 7\u001b[0m\n\u001b[1;32m      5\u001b[0m     \u001b[38;5;28;01mreturn\u001b[39;00m a\n\u001b[1;32m      6\u001b[0m hi()    \u001b[38;5;66;03m#prints 5\u001b[39;00m\n\u001b[0;32m----> 7\u001b[0m \u001b[38;5;28mprint\u001b[39m(\u001b[43ma\u001b[49m)\n",
      "\u001b[0;31mNameError\u001b[0m: name 'a' is not defined"
     ]
    }
   ],
   "source": [
    "#They are deleted once the function execution is completed.\n",
    "#Ex:\n",
    "def hi():\n",
    "    a = 5\n",
    "    return a\n",
    "hi()    #prints 5\n",
    "print(a) #throws error"
   ]
  },
  {
   "cell_type": "markdown",
   "id": "5b4080b6-d8db-4798-80b4-ce3de532897d",
   "metadata": {},
   "source": [
    "## 7. What is the concept of a return value? Is it possible to have a return value in an expression?"
   ]
  },
  {
   "cell_type": "code",
   "execution_count": null,
   "id": "e02cba41-9699-4a37-8d87-79d7d3712b91",
   "metadata": {},
   "outputs": [],
   "source": [
    "A return value is a value that returns the value to the calling script when it completes it's task.\n",
    "No its not possible to have a return value in an expression.\n"
   ]
  },
  {
   "cell_type": "markdown",
   "id": "bd96dd09-9236-431d-9546-cf2f8e317b60",
   "metadata": {},
   "source": [
    "## 8. If a function does not have a return statement, what is the return value of a call to that function?"
   ]
  },
  {
   "cell_type": "code",
   "execution_count": null,
   "id": "7f83cc3f-9528-4372-a62e-94c436090f2d",
   "metadata": {},
   "outputs": [],
   "source": [
    "None"
   ]
  },
  {
   "cell_type": "markdown",
   "id": "4752ad50-7d04-423a-bb7b-747a568826f5",
   "metadata": {},
   "source": [
    "## 9. How do you make a function variable refer to the global variable?"
   ]
  },
  {
   "cell_type": "code",
   "execution_count": null,
   "id": "86d5f401-1e90-4d6c-b003-8092ce52e590",
   "metadata": {},
   "outputs": [],
   "source": [
    "We can use global keyword to make it globally available."
   ]
  },
  {
   "cell_type": "markdown",
   "id": "fb1ef1a1-e396-4a29-8d3e-4429a731f61e",
   "metadata": {},
   "source": [
    "## 10. What is the data type of None?"
   ]
  },
  {
   "cell_type": "code",
   "execution_count": 9,
   "id": "adf0e537-68e7-405f-87df-3f50b738a3c8",
   "metadata": {},
   "outputs": [
    {
     "data": {
      "text/plain": [
       "NoneType"
      ]
     },
     "execution_count": 9,
     "metadata": {},
     "output_type": "execute_result"
    }
   ],
   "source": [
    "type(None)"
   ]
  },
  {
   "cell_type": "markdown",
   "id": "d0db8227-651b-4273-a34b-17e2e227e5a1",
   "metadata": {},
   "source": [
    "## 11. What does the sentence import areallyourpetsnamederic do?"
   ]
  },
  {
   "cell_type": "code",
   "execution_count": null,
   "id": "a6c85868-5d3c-4f8f-8c5b-6d93e70d3881",
   "metadata": {},
   "outputs": [],
   "source": [
    "This imports a module named areallyourpetsnamederic if it exists."
   ]
  },
  {
   "cell_type": "code",
   "execution_count": 10,
   "id": "4e3e4d40-36b2-4769-9eb0-2b7a94b3b956",
   "metadata": {},
   "outputs": [
    {
     "ename": "ModuleNotFoundError",
     "evalue": "No module named 'areallyourpetsnamederic'",
     "output_type": "error",
     "traceback": [
      "\u001b[0;31m---------------------------------------------------------------------------\u001b[0m",
      "\u001b[0;31mModuleNotFoundError\u001b[0m                       Traceback (most recent call last)",
      "Cell \u001b[0;32mIn [10], line 1\u001b[0m\n\u001b[0;32m----> 1\u001b[0m \u001b[38;5;28;01mimport\u001b[39;00m \u001b[38;5;21;01mareallyourpetsnamederic\u001b[39;00m\n",
      "\u001b[0;31mModuleNotFoundError\u001b[0m: No module named 'areallyourpetsnamederic'"
     ]
    }
   ],
   "source": [
    "import areallyourpetsnamederic"
   ]
  },
  {
   "cell_type": "markdown",
   "id": "fa808fff-f1dc-42e9-b48b-21e4d3e19f79",
   "metadata": {},
   "source": [
    "## 12. If you had a bacon() feature in a spam module, what would you call it after importing spam?"
   ]
  },
  {
   "cell_type": "code",
   "execution_count": null,
   "id": "f05d5239-c3db-48f9-aeca-6fdbecade13b",
   "metadata": {},
   "outputs": [],
   "source": [
    "spam.bacon()"
   ]
  },
  {
   "cell_type": "markdown",
   "id": "f284b54a-a6aa-4fd1-9d63-cbe2ebf91139",
   "metadata": {},
   "source": [
    "## 13. What can you do to save a programme from crashing if it encounters an error?"
   ]
  },
  {
   "cell_type": "code",
   "execution_count": null,
   "id": "07e0b205-5689-44c7-bc34-03ac529a255f",
   "metadata": {},
   "outputs": [],
   "source": [
    "As a programmer we need to handle each and exery exception that occurs. This is done by writing \n",
    "additional code in a program to give proper messages or instructions to the user on encountering an exception.\n",
    "This process is known as exception handling."
   ]
  },
  {
   "cell_type": "markdown",
   "id": "211d0150-1ead-4595-a4f6-0f5de407f764",
   "metadata": {},
   "source": [
    "## 14. What is the purpose of the try clause? What is the purpose of the except clause?"
   ]
  },
  {
   "cell_type": "code",
   "execution_count": null,
   "id": "d3811b91-79d5-4820-a997-05e274999555",
   "metadata": {},
   "outputs": [],
   "source": [
    "When you have a code that run sometimes correctly and sometimes not then we use try block \n",
    "to test a block of code for errors.\n",
    "\n",
    "The except block lets you handle the error.\n",
    "\n",
    "Ex:\n",
    "try:\n",
    "  print(z)\n",
    "except:\n",
    "  print(\"An exception occurred\")\n",
    "\n",
    "Since we didn't define 'z' it will generate exception"
   ]
  }
 ],
 "metadata": {
  "kernelspec": {
   "display_name": "Python 3 (ipykernel)",
   "language": "python",
   "name": "python3"
  },
  "language_info": {
   "codemirror_mode": {
    "name": "ipython",
    "version": 3
   },
   "file_extension": ".py",
   "mimetype": "text/x-python",
   "name": "python",
   "nbconvert_exporter": "python",
   "pygments_lexer": "ipython3",
   "version": "3.10.6"
  }
 },
 "nbformat": 4,
 "nbformat_minor": 5
}
